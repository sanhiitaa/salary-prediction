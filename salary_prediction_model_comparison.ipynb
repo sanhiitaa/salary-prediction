{
  "nbformat": 4,
  "nbformat_minor": 0,
  "metadata": {
    "colab": {
      "provenance": [],
      "toc_visible": true,
      "authorship_tag": "ABX9TyM5qgKxVQqUmaSaqGEkreiU",
      "include_colab_link": true
    },
    "kernelspec": {
      "name": "python3",
      "display_name": "Python 3"
    },
    "language_info": {
      "name": "python"
    }
  },
  "cells": [
    {
      "cell_type": "markdown",
      "metadata": {
        "id": "view-in-github",
        "colab_type": "text"
      },
      "source": [
        "<a href=\"https://colab.research.google.com/github/sanhiitaa/salary-prediction/blob/main/salary_prediction_model_comparison.ipynb\" target=\"_parent\"><img src=\"https://colab.research.google.com/assets/colab-badge.svg\" alt=\"Open In Colab\"/></a>"
      ]
    },
    {
      "cell_type": "markdown",
      "source": [
        "# Importing Libraries"
      ],
      "metadata": {
        "id": "GLjPdgGarume"
      }
    },
    {
      "cell_type": "code",
      "execution_count": 1,
      "metadata": {
        "id": "qcz-zDZddiPD"
      },
      "outputs": [],
      "source": [
        "# data handling and visualization libraries\n",
        "import pandas as pd\n",
        "import numpy as np\n",
        "import matplotlib.pyplot as plt\n",
        "import seaborn as sns\n",
        "\n",
        "# data preparation libraries\n",
        "from sklearn.model_selection import train_test_split\n",
        "from sklearn.preprocessing import LabelEncoder\n",
        "from sklearn.preprocessing import OrdinalEncoder\n",
        "from sklearn.feature_selection import SelectKBest, f_regression\n",
        "\n",
        "# model training libraries\n",
        "\n",
        "from sklearn.linear_model import LinearRegression\n",
        "from sklearn.metrics import mean_squared_error, r2_score\n",
        "\n",
        "# metric library\n",
        "from sklearn import metrics\n",
        "\n",
        "# setting a random seed for reproducability\n",
        "np.random.seed(1111)"
      ]
    },
    {
      "cell_type": "markdown",
      "source": [
        "# Loading the dataset"
      ],
      "metadata": {
        "id": "TvF90oYxsl1H"
      }
    },
    {
      "cell_type": "code",
      "source": [
        "df=pd.read_csv('/content/salary_data_cleaned.csv')\n",
        "df.head()"
      ],
      "metadata": {
        "colab": {
          "base_uri": "https://localhost:8080/",
          "height": 206
        },
        "id": "dhVj9A8ud9Xv",
        "outputId": "98dc629f-5fe8-4d37-f732-747343c24ea9"
      },
      "execution_count": 2,
      "outputs": [
        {
          "output_type": "execute_result",
          "data": {
            "text/plain": [
              "  SEX DESIGNATION   AGE  SALARY        UNIT  LEAVES USED  LEAVES REMAINING  \\\n",
              "0   F     Analyst  21.0   44570     Finance         24.0               6.0   \n",
              "1   F   Associate  25.0   89207         Web         22.0              13.0   \n",
              "2   F     Analyst  21.0   40955     Finance         23.0               7.0   \n",
              "3   F     Analyst  22.0   45550          IT         22.0               8.0   \n",
              "4   M     Analyst  25.0   43161  Operations         27.0               3.0   \n",
              "\n",
              "   RATINGS  PAST EXP  years_experience  \n",
              "0      2.0         0                 2  \n",
              "1      2.0         7                 3  \n",
              "2      3.0         0                 2  \n",
              "3      3.0         0                 3  \n",
              "4      2.0         3                 2  "
            ],
            "text/html": [
              "\n",
              "  <div id=\"df-fbcc8627-beac-431f-be2c-023fc2b37d92\" class=\"colab-df-container\">\n",
              "    <div>\n",
              "<style scoped>\n",
              "    .dataframe tbody tr th:only-of-type {\n",
              "        vertical-align: middle;\n",
              "    }\n",
              "\n",
              "    .dataframe tbody tr th {\n",
              "        vertical-align: top;\n",
              "    }\n",
              "\n",
              "    .dataframe thead th {\n",
              "        text-align: right;\n",
              "    }\n",
              "</style>\n",
              "<table border=\"1\" class=\"dataframe\">\n",
              "  <thead>\n",
              "    <tr style=\"text-align: right;\">\n",
              "      <th></th>\n",
              "      <th>SEX</th>\n",
              "      <th>DESIGNATION</th>\n",
              "      <th>AGE</th>\n",
              "      <th>SALARY</th>\n",
              "      <th>UNIT</th>\n",
              "      <th>LEAVES USED</th>\n",
              "      <th>LEAVES REMAINING</th>\n",
              "      <th>RATINGS</th>\n",
              "      <th>PAST EXP</th>\n",
              "      <th>years_experience</th>\n",
              "    </tr>\n",
              "  </thead>\n",
              "  <tbody>\n",
              "    <tr>\n",
              "      <th>0</th>\n",
              "      <td>F</td>\n",
              "      <td>Analyst</td>\n",
              "      <td>21.0</td>\n",
              "      <td>44570</td>\n",
              "      <td>Finance</td>\n",
              "      <td>24.0</td>\n",
              "      <td>6.0</td>\n",
              "      <td>2.0</td>\n",
              "      <td>0</td>\n",
              "      <td>2</td>\n",
              "    </tr>\n",
              "    <tr>\n",
              "      <th>1</th>\n",
              "      <td>F</td>\n",
              "      <td>Associate</td>\n",
              "      <td>25.0</td>\n",
              "      <td>89207</td>\n",
              "      <td>Web</td>\n",
              "      <td>22.0</td>\n",
              "      <td>13.0</td>\n",
              "      <td>2.0</td>\n",
              "      <td>7</td>\n",
              "      <td>3</td>\n",
              "    </tr>\n",
              "    <tr>\n",
              "      <th>2</th>\n",
              "      <td>F</td>\n",
              "      <td>Analyst</td>\n",
              "      <td>21.0</td>\n",
              "      <td>40955</td>\n",
              "      <td>Finance</td>\n",
              "      <td>23.0</td>\n",
              "      <td>7.0</td>\n",
              "      <td>3.0</td>\n",
              "      <td>0</td>\n",
              "      <td>2</td>\n",
              "    </tr>\n",
              "    <tr>\n",
              "      <th>3</th>\n",
              "      <td>F</td>\n",
              "      <td>Analyst</td>\n",
              "      <td>22.0</td>\n",
              "      <td>45550</td>\n",
              "      <td>IT</td>\n",
              "      <td>22.0</td>\n",
              "      <td>8.0</td>\n",
              "      <td>3.0</td>\n",
              "      <td>0</td>\n",
              "      <td>3</td>\n",
              "    </tr>\n",
              "    <tr>\n",
              "      <th>4</th>\n",
              "      <td>M</td>\n",
              "      <td>Analyst</td>\n",
              "      <td>25.0</td>\n",
              "      <td>43161</td>\n",
              "      <td>Operations</td>\n",
              "      <td>27.0</td>\n",
              "      <td>3.0</td>\n",
              "      <td>2.0</td>\n",
              "      <td>3</td>\n",
              "      <td>2</td>\n",
              "    </tr>\n",
              "  </tbody>\n",
              "</table>\n",
              "</div>\n",
              "    <div class=\"colab-df-buttons\">\n",
              "\n",
              "  <div class=\"colab-df-container\">\n",
              "    <button class=\"colab-df-convert\" onclick=\"convertToInteractive('df-fbcc8627-beac-431f-be2c-023fc2b37d92')\"\n",
              "            title=\"Convert this dataframe to an interactive table.\"\n",
              "            style=\"display:none;\">\n",
              "\n",
              "  <svg xmlns=\"http://www.w3.org/2000/svg\" height=\"24px\" viewBox=\"0 -960 960 960\">\n",
              "    <path d=\"M120-120v-720h720v720H120Zm60-500h600v-160H180v160Zm220 220h160v-160H400v160Zm0 220h160v-160H400v160ZM180-400h160v-160H180v160Zm440 0h160v-160H620v160ZM180-180h160v-160H180v160Zm440 0h160v-160H620v160Z\"/>\n",
              "  </svg>\n",
              "    </button>\n",
              "\n",
              "  <style>\n",
              "    .colab-df-container {\n",
              "      display:flex;\n",
              "      gap: 12px;\n",
              "    }\n",
              "\n",
              "    .colab-df-convert {\n",
              "      background-color: #E8F0FE;\n",
              "      border: none;\n",
              "      border-radius: 50%;\n",
              "      cursor: pointer;\n",
              "      display: none;\n",
              "      fill: #1967D2;\n",
              "      height: 32px;\n",
              "      padding: 0 0 0 0;\n",
              "      width: 32px;\n",
              "    }\n",
              "\n",
              "    .colab-df-convert:hover {\n",
              "      background-color: #E2EBFA;\n",
              "      box-shadow: 0px 1px 2px rgba(60, 64, 67, 0.3), 0px 1px 3px 1px rgba(60, 64, 67, 0.15);\n",
              "      fill: #174EA6;\n",
              "    }\n",
              "\n",
              "    .colab-df-buttons div {\n",
              "      margin-bottom: 4px;\n",
              "    }\n",
              "\n",
              "    [theme=dark] .colab-df-convert {\n",
              "      background-color: #3B4455;\n",
              "      fill: #D2E3FC;\n",
              "    }\n",
              "\n",
              "    [theme=dark] .colab-df-convert:hover {\n",
              "      background-color: #434B5C;\n",
              "      box-shadow: 0px 1px 3px 1px rgba(0, 0, 0, 0.15);\n",
              "      filter: drop-shadow(0px 1px 2px rgba(0, 0, 0, 0.3));\n",
              "      fill: #FFFFFF;\n",
              "    }\n",
              "  </style>\n",
              "\n",
              "    <script>\n",
              "      const buttonEl =\n",
              "        document.querySelector('#df-fbcc8627-beac-431f-be2c-023fc2b37d92 button.colab-df-convert');\n",
              "      buttonEl.style.display =\n",
              "        google.colab.kernel.accessAllowed ? 'block' : 'none';\n",
              "\n",
              "      async function convertToInteractive(key) {\n",
              "        const element = document.querySelector('#df-fbcc8627-beac-431f-be2c-023fc2b37d92');\n",
              "        const dataTable =\n",
              "          await google.colab.kernel.invokeFunction('convertToInteractive',\n",
              "                                                    [key], {});\n",
              "        if (!dataTable) return;\n",
              "\n",
              "        const docLinkHtml = 'Like what you see? Visit the ' +\n",
              "          '<a target=\"_blank\" href=https://colab.research.google.com/notebooks/data_table.ipynb>data table notebook</a>'\n",
              "          + ' to learn more about interactive tables.';\n",
              "        element.innerHTML = '';\n",
              "        dataTable['output_type'] = 'display_data';\n",
              "        await google.colab.output.renderOutput(dataTable, element);\n",
              "        const docLink = document.createElement('div');\n",
              "        docLink.innerHTML = docLinkHtml;\n",
              "        element.appendChild(docLink);\n",
              "      }\n",
              "    </script>\n",
              "  </div>\n",
              "\n",
              "\n",
              "<div id=\"df-dc84c539-420e-4c89-a175-7d84311f1f8b\">\n",
              "  <button class=\"colab-df-quickchart\" onclick=\"quickchart('df-dc84c539-420e-4c89-a175-7d84311f1f8b')\"\n",
              "            title=\"Suggest charts\"\n",
              "            style=\"display:none;\">\n",
              "\n",
              "<svg xmlns=\"http://www.w3.org/2000/svg\" height=\"24px\"viewBox=\"0 0 24 24\"\n",
              "     width=\"24px\">\n",
              "    <g>\n",
              "        <path d=\"M19 3H5c-1.1 0-2 .9-2 2v14c0 1.1.9 2 2 2h14c1.1 0 2-.9 2-2V5c0-1.1-.9-2-2-2zM9 17H7v-7h2v7zm4 0h-2V7h2v10zm4 0h-2v-4h2v4z\"/>\n",
              "    </g>\n",
              "</svg>\n",
              "  </button>\n",
              "\n",
              "<style>\n",
              "  .colab-df-quickchart {\n",
              "      --bg-color: #E8F0FE;\n",
              "      --fill-color: #1967D2;\n",
              "      --hover-bg-color: #E2EBFA;\n",
              "      --hover-fill-color: #174EA6;\n",
              "      --disabled-fill-color: #AAA;\n",
              "      --disabled-bg-color: #DDD;\n",
              "  }\n",
              "\n",
              "  [theme=dark] .colab-df-quickchart {\n",
              "      --bg-color: #3B4455;\n",
              "      --fill-color: #D2E3FC;\n",
              "      --hover-bg-color: #434B5C;\n",
              "      --hover-fill-color: #FFFFFF;\n",
              "      --disabled-bg-color: #3B4455;\n",
              "      --disabled-fill-color: #666;\n",
              "  }\n",
              "\n",
              "  .colab-df-quickchart {\n",
              "    background-color: var(--bg-color);\n",
              "    border: none;\n",
              "    border-radius: 50%;\n",
              "    cursor: pointer;\n",
              "    display: none;\n",
              "    fill: var(--fill-color);\n",
              "    height: 32px;\n",
              "    padding: 0;\n",
              "    width: 32px;\n",
              "  }\n",
              "\n",
              "  .colab-df-quickchart:hover {\n",
              "    background-color: var(--hover-bg-color);\n",
              "    box-shadow: 0 1px 2px rgba(60, 64, 67, 0.3), 0 1px 3px 1px rgba(60, 64, 67, 0.15);\n",
              "    fill: var(--button-hover-fill-color);\n",
              "  }\n",
              "\n",
              "  .colab-df-quickchart-complete:disabled,\n",
              "  .colab-df-quickchart-complete:disabled:hover {\n",
              "    background-color: var(--disabled-bg-color);\n",
              "    fill: var(--disabled-fill-color);\n",
              "    box-shadow: none;\n",
              "  }\n",
              "\n",
              "  .colab-df-spinner {\n",
              "    border: 2px solid var(--fill-color);\n",
              "    border-color: transparent;\n",
              "    border-bottom-color: var(--fill-color);\n",
              "    animation:\n",
              "      spin 1s steps(1) infinite;\n",
              "  }\n",
              "\n",
              "  @keyframes spin {\n",
              "    0% {\n",
              "      border-color: transparent;\n",
              "      border-bottom-color: var(--fill-color);\n",
              "      border-left-color: var(--fill-color);\n",
              "    }\n",
              "    20% {\n",
              "      border-color: transparent;\n",
              "      border-left-color: var(--fill-color);\n",
              "      border-top-color: var(--fill-color);\n",
              "    }\n",
              "    30% {\n",
              "      border-color: transparent;\n",
              "      border-left-color: var(--fill-color);\n",
              "      border-top-color: var(--fill-color);\n",
              "      border-right-color: var(--fill-color);\n",
              "    }\n",
              "    40% {\n",
              "      border-color: transparent;\n",
              "      border-right-color: var(--fill-color);\n",
              "      border-top-color: var(--fill-color);\n",
              "    }\n",
              "    60% {\n",
              "      border-color: transparent;\n",
              "      border-right-color: var(--fill-color);\n",
              "    }\n",
              "    80% {\n",
              "      border-color: transparent;\n",
              "      border-right-color: var(--fill-color);\n",
              "      border-bottom-color: var(--fill-color);\n",
              "    }\n",
              "    90% {\n",
              "      border-color: transparent;\n",
              "      border-bottom-color: var(--fill-color);\n",
              "    }\n",
              "  }\n",
              "</style>\n",
              "\n",
              "  <script>\n",
              "    async function quickchart(key) {\n",
              "      const quickchartButtonEl =\n",
              "        document.querySelector('#' + key + ' button');\n",
              "      quickchartButtonEl.disabled = true;  // To prevent multiple clicks.\n",
              "      quickchartButtonEl.classList.add('colab-df-spinner');\n",
              "      try {\n",
              "        const charts = await google.colab.kernel.invokeFunction(\n",
              "            'suggestCharts', [key], {});\n",
              "      } catch (error) {\n",
              "        console.error('Error during call to suggestCharts:', error);\n",
              "      }\n",
              "      quickchartButtonEl.classList.remove('colab-df-spinner');\n",
              "      quickchartButtonEl.classList.add('colab-df-quickchart-complete');\n",
              "    }\n",
              "    (() => {\n",
              "      let quickchartButtonEl =\n",
              "        document.querySelector('#df-dc84c539-420e-4c89-a175-7d84311f1f8b button');\n",
              "      quickchartButtonEl.style.display =\n",
              "        google.colab.kernel.accessAllowed ? 'block' : 'none';\n",
              "    })();\n",
              "  </script>\n",
              "</div>\n",
              "\n",
              "    </div>\n",
              "  </div>\n"
            ],
            "application/vnd.google.colaboratory.intrinsic+json": {
              "type": "dataframe",
              "variable_name": "df",
              "summary": "{\n  \"name\": \"df\",\n  \"rows\": 2478,\n  \"fields\": [\n    {\n      \"column\": \"SEX\",\n      \"properties\": {\n        \"dtype\": \"category\",\n        \"num_unique_values\": 2,\n        \"samples\": [\n          \"M\",\n          \"F\"\n        ],\n        \"semantic_type\": \"\",\n        \"description\": \"\"\n      }\n    },\n    {\n      \"column\": \"DESIGNATION\",\n      \"properties\": {\n        \"dtype\": \"category\",\n        \"num_unique_values\": 6,\n        \"samples\": [\n          \"Analyst\",\n          \"Associate\"\n        ],\n        \"semantic_type\": \"\",\n        \"description\": \"\"\n      }\n    },\n    {\n      \"column\": \"AGE\",\n      \"properties\": {\n        \"dtype\": \"number\",\n        \"std\": 3.9102327359063946,\n        \"min\": 21.0,\n        \"max\": 45.0,\n        \"num_unique_values\": 25,\n        \"samples\": [\n          29.0,\n          41.0\n        ],\n        \"semantic_type\": \"\",\n        \"description\": \"\"\n      }\n    },\n    {\n      \"column\": \"SALARY\",\n      \"properties\": {\n        \"dtype\": \"number\",\n        \"std\": 36786,\n        \"min\": 40001,\n        \"max\": 388112,\n        \"num_unique_values\": 2305,\n        \"samples\": [\n          41452,\n          43391\n        ],\n        \"semantic_type\": \"\",\n        \"description\": \"\"\n      }\n    },\n    {\n      \"column\": \"UNIT\",\n      \"properties\": {\n        \"dtype\": \"category\",\n        \"num_unique_values\": 6,\n        \"samples\": [\n          \"Finance\",\n          \"Web\"\n        ],\n        \"semantic_type\": \"\",\n        \"description\": \"\"\n      }\n    },\n    {\n      \"column\": \"LEAVES USED\",\n      \"properties\": {\n        \"dtype\": \"number\",\n        \"std\": 4.596051708752088,\n        \"min\": 15.0,\n        \"max\": 30.0,\n        \"num_unique_values\": 16,\n        \"samples\": [\n          24.0,\n          22.0\n        ],\n        \"semantic_type\": \"\",\n        \"description\": \"\"\n      }\n    },\n    {\n      \"column\": \"LEAVES REMAINING\",\n      \"properties\": {\n        \"dtype\": \"number\",\n        \"std\": 4.595602706537352,\n        \"min\": 0.0,\n        \"max\": 15.0,\n        \"num_unique_values\": 16,\n        \"samples\": [\n          6.0,\n          13.0\n        ],\n        \"semantic_type\": \"\",\n        \"description\": \"\"\n      }\n    },\n    {\n      \"column\": \"RATINGS\",\n      \"properties\": {\n        \"dtype\": \"number\",\n        \"std\": 1.1162849702505615,\n        \"min\": 2.0,\n        \"max\": 5.0,\n        \"num_unique_values\": 4,\n        \"samples\": [\n          3.0,\n          5.0\n        ],\n        \"semantic_type\": \"\",\n        \"description\": \"\"\n      }\n    },\n    {\n      \"column\": \"PAST EXP\",\n      \"properties\": {\n        \"dtype\": \"number\",\n        \"std\": 2,\n        \"min\": 0,\n        \"max\": 23,\n        \"num_unique_values\": 21,\n        \"samples\": [\n          0,\n          19\n        ],\n        \"semantic_type\": \"\",\n        \"description\": \"\"\n      }\n    },\n    {\n      \"column\": \"years_experience\",\n      \"properties\": {\n        \"dtype\": \"number\",\n        \"std\": 0,\n        \"min\": 1,\n        \"max\": 7,\n        \"num_unique_values\": 7,\n        \"samples\": [\n          2,\n          3\n        ],\n        \"semantic_type\": \"\",\n        \"description\": \"\"\n      }\n    }\n  ]\n}"
            }
          },
          "metadata": {},
          "execution_count": 2
        }
      ]
    },
    {
      "cell_type": "code",
      "source": [
        "df.info()"
      ],
      "metadata": {
        "colab": {
          "base_uri": "https://localhost:8080/"
        },
        "id": "4eMr9nQtgPsG",
        "outputId": "c5628b1b-b558-4bd0-e737-1bfce7ec3dfa"
      },
      "execution_count": 3,
      "outputs": [
        {
          "output_type": "stream",
          "name": "stdout",
          "text": [
            "<class 'pandas.core.frame.DataFrame'>\n",
            "RangeIndex: 2478 entries, 0 to 2477\n",
            "Data columns (total 10 columns):\n",
            " #   Column            Non-Null Count  Dtype  \n",
            "---  ------            --------------  -----  \n",
            " 0   SEX               2478 non-null   object \n",
            " 1   DESIGNATION       2478 non-null   object \n",
            " 2   AGE               2478 non-null   float64\n",
            " 3   SALARY            2478 non-null   int64  \n",
            " 4   UNIT              2478 non-null   object \n",
            " 5   LEAVES USED       2478 non-null   float64\n",
            " 6   LEAVES REMAINING  2478 non-null   float64\n",
            " 7   RATINGS           2478 non-null   float64\n",
            " 8   PAST EXP          2478 non-null   int64  \n",
            " 9   years_experience  2478 non-null   int64  \n",
            "dtypes: float64(4), int64(3), object(3)\n",
            "memory usage: 193.7+ KB\n"
          ]
        }
      ]
    },
    {
      "cell_type": "markdown",
      "source": [
        "# Splitting the data"
      ],
      "metadata": {
        "id": "ipboFGeGi5rY"
      }
    },
    {
      "cell_type": "code",
      "source": [
        "# splitting the data into dependent and independent variables\n",
        "X=df.drop('SALARY',axis=1)\n",
        "y=df['SALARY']"
      ],
      "metadata": {
        "id": "00vNO9iDec-c"
      },
      "execution_count": 4,
      "outputs": []
    },
    {
      "cell_type": "code",
      "source": [
        "x_train, x_test, y_train, y_test = train_test_split(X, y, test_size=0.3)"
      ],
      "metadata": {
        "id": "t_-GwhlVennl"
      },
      "execution_count": 5,
      "outputs": []
    },
    {
      "cell_type": "code",
      "source": [
        "x_train.shape, x_test.shape, y_train.shape, y_test.shape"
      ],
      "metadata": {
        "colab": {
          "base_uri": "https://localhost:8080/"
        },
        "id": "eEV7idCNpOPB",
        "outputId": "0ad95180-d393-455f-b4a6-4d026defdf57"
      },
      "execution_count": 6,
      "outputs": [
        {
          "output_type": "execute_result",
          "data": {
            "text/plain": [
              "((1734, 9), (744, 9), (1734,), (744,))"
            ]
          },
          "metadata": {},
          "execution_count": 6
        }
      ]
    },
    {
      "cell_type": "markdown",
      "source": [
        "# Encoding data"
      ],
      "metadata": {
        "id": "EL5-8ehZgELr"
      }
    },
    {
      "cell_type": "code",
      "source": [
        "df.DESIGNATION.value_counts()"
      ],
      "metadata": {
        "colab": {
          "base_uri": "https://localhost:8080/"
        },
        "id": "37rotsOCgOOn",
        "outputId": "2b8979ae-f8f9-44ab-cc6b-f09f76f0adb7"
      },
      "execution_count": 7,
      "outputs": [
        {
          "output_type": "execute_result",
          "data": {
            "text/plain": [
              "DESIGNATION\n",
              "Analyst           1854\n",
              "Senior Analyst     301\n",
              "Associate          156\n",
              "Manager             79\n",
              "Senior Manager      61\n",
              "Director            27\n",
              "Name: count, dtype: int64"
            ]
          },
          "metadata": {},
          "execution_count": 7
        }
      ]
    },
    {
      "cell_type": "code",
      "source": [
        "df.SEX.value_counts()"
      ],
      "metadata": {
        "colab": {
          "base_uri": "https://localhost:8080/"
        },
        "id": "pK_ENfLdf096",
        "outputId": "db795fc8-de20-4a1c-d8a3-fcd8276bc48b"
      },
      "execution_count": 8,
      "outputs": [
        {
          "output_type": "execute_result",
          "data": {
            "text/plain": [
              "SEX\n",
              "F    1259\n",
              "M    1219\n",
              "Name: count, dtype: int64"
            ]
          },
          "metadata": {},
          "execution_count": 8
        }
      ]
    },
    {
      "cell_type": "code",
      "source": [
        "df.UNIT.value_counts()"
      ],
      "metadata": {
        "colab": {
          "base_uri": "https://localhost:8080/"
        },
        "id": "__UkBKGAiDqb",
        "outputId": "52f6c5ef-2d75-4ed4-d6e4-76fc8d32ef88"
      },
      "execution_count": 9,
      "outputs": [
        {
          "output_type": "execute_result",
          "data": {
            "text/plain": [
              "UNIT\n",
              "IT            437\n",
              "Finance       417\n",
              "Operations    416\n",
              "Marketing     411\n",
              "Web           400\n",
              "Management    397\n",
              "Name: count, dtype: int64"
            ]
          },
          "metadata": {},
          "execution_count": 9
        }
      ]
    },
    {
      "cell_type": "code",
      "source": [
        "# label encoding sex and unit column\n",
        "label_cols=['SEX', 'UNIT']\n",
        "for cols in label_cols:\n",
        "  le=LabelEncoder()\n",
        "  x_train[cols]= le.fit_transform(x_train[cols])\n",
        "  x_test[cols]= le.transform(x_test[cols])"
      ],
      "metadata": {
        "id": "rDhumezDidY1"
      },
      "execution_count": 10,
      "outputs": []
    },
    {
      "cell_type": "code",
      "source": [
        "# ordinal encoding designation column\n",
        "desired_order=[['Analyst', 'Associate', 'Senior Analyst', 'Manager', 'Senior Manager', 'Director']]\n",
        "ordinal_encoder = OrdinalEncoder(categories=desired_order)\n",
        "x_train['DESIGNATION'] = ordinal_encoder.fit_transform(x_train[['DESIGNATION']])\n",
        "x_test['DESIGNATION'] = ordinal_encoder.transform(x_test[['DESIGNATION']])"
      ],
      "metadata": {
        "id": "q_CN_Yc_j4GS"
      },
      "execution_count": 11,
      "outputs": []
    },
    {
      "cell_type": "code",
      "source": [
        "x_train.head()"
      ],
      "metadata": {
        "colab": {
          "base_uri": "https://localhost:8080/",
          "height": 206
        },
        "id": "cNQmt_1Nkr8Y",
        "outputId": "f9e94415-4b8b-4131-967b-bb1373c43731"
      },
      "execution_count": 12,
      "outputs": [
        {
          "output_type": "execute_result",
          "data": {
            "text/plain": [
              "      SEX  DESIGNATION   AGE  UNIT  LEAVES USED  LEAVES REMAINING  RATINGS  \\\n",
              "646     0          0.0  25.0     1         24.0               6.0      3.0   \n",
              "1074    1          0.0  22.0     3         24.0               6.0      2.0   \n",
              "244     0          0.0  25.0     1         27.0               3.0      5.0   \n",
              "2071    1          0.0  25.0     3         26.0               4.0      2.0   \n",
              "1780    1          0.0  23.0     0         23.0               7.0      3.0   \n",
              "\n",
              "      PAST EXP  years_experience  \n",
              "646          1                 3  \n",
              "1074         0                 2  \n",
              "244          1                 3  \n",
              "2071         2                 3  \n",
              "1780         0                 3  "
            ],
            "text/html": [
              "\n",
              "  <div id=\"df-c2cc9bdb-af6a-4d23-b618-78cfc691a9c7\" class=\"colab-df-container\">\n",
              "    <div>\n",
              "<style scoped>\n",
              "    .dataframe tbody tr th:only-of-type {\n",
              "        vertical-align: middle;\n",
              "    }\n",
              "\n",
              "    .dataframe tbody tr th {\n",
              "        vertical-align: top;\n",
              "    }\n",
              "\n",
              "    .dataframe thead th {\n",
              "        text-align: right;\n",
              "    }\n",
              "</style>\n",
              "<table border=\"1\" class=\"dataframe\">\n",
              "  <thead>\n",
              "    <tr style=\"text-align: right;\">\n",
              "      <th></th>\n",
              "      <th>SEX</th>\n",
              "      <th>DESIGNATION</th>\n",
              "      <th>AGE</th>\n",
              "      <th>UNIT</th>\n",
              "      <th>LEAVES USED</th>\n",
              "      <th>LEAVES REMAINING</th>\n",
              "      <th>RATINGS</th>\n",
              "      <th>PAST EXP</th>\n",
              "      <th>years_experience</th>\n",
              "    </tr>\n",
              "  </thead>\n",
              "  <tbody>\n",
              "    <tr>\n",
              "      <th>646</th>\n",
              "      <td>0</td>\n",
              "      <td>0.0</td>\n",
              "      <td>25.0</td>\n",
              "      <td>1</td>\n",
              "      <td>24.0</td>\n",
              "      <td>6.0</td>\n",
              "      <td>3.0</td>\n",
              "      <td>1</td>\n",
              "      <td>3</td>\n",
              "    </tr>\n",
              "    <tr>\n",
              "      <th>1074</th>\n",
              "      <td>1</td>\n",
              "      <td>0.0</td>\n",
              "      <td>22.0</td>\n",
              "      <td>3</td>\n",
              "      <td>24.0</td>\n",
              "      <td>6.0</td>\n",
              "      <td>2.0</td>\n",
              "      <td>0</td>\n",
              "      <td>2</td>\n",
              "    </tr>\n",
              "    <tr>\n",
              "      <th>244</th>\n",
              "      <td>0</td>\n",
              "      <td>0.0</td>\n",
              "      <td>25.0</td>\n",
              "      <td>1</td>\n",
              "      <td>27.0</td>\n",
              "      <td>3.0</td>\n",
              "      <td>5.0</td>\n",
              "      <td>1</td>\n",
              "      <td>3</td>\n",
              "    </tr>\n",
              "    <tr>\n",
              "      <th>2071</th>\n",
              "      <td>1</td>\n",
              "      <td>0.0</td>\n",
              "      <td>25.0</td>\n",
              "      <td>3</td>\n",
              "      <td>26.0</td>\n",
              "      <td>4.0</td>\n",
              "      <td>2.0</td>\n",
              "      <td>2</td>\n",
              "      <td>3</td>\n",
              "    </tr>\n",
              "    <tr>\n",
              "      <th>1780</th>\n",
              "      <td>1</td>\n",
              "      <td>0.0</td>\n",
              "      <td>23.0</td>\n",
              "      <td>0</td>\n",
              "      <td>23.0</td>\n",
              "      <td>7.0</td>\n",
              "      <td>3.0</td>\n",
              "      <td>0</td>\n",
              "      <td>3</td>\n",
              "    </tr>\n",
              "  </tbody>\n",
              "</table>\n",
              "</div>\n",
              "    <div class=\"colab-df-buttons\">\n",
              "\n",
              "  <div class=\"colab-df-container\">\n",
              "    <button class=\"colab-df-convert\" onclick=\"convertToInteractive('df-c2cc9bdb-af6a-4d23-b618-78cfc691a9c7')\"\n",
              "            title=\"Convert this dataframe to an interactive table.\"\n",
              "            style=\"display:none;\">\n",
              "\n",
              "  <svg xmlns=\"http://www.w3.org/2000/svg\" height=\"24px\" viewBox=\"0 -960 960 960\">\n",
              "    <path d=\"M120-120v-720h720v720H120Zm60-500h600v-160H180v160Zm220 220h160v-160H400v160Zm0 220h160v-160H400v160ZM180-400h160v-160H180v160Zm440 0h160v-160H620v160ZM180-180h160v-160H180v160Zm440 0h160v-160H620v160Z\"/>\n",
              "  </svg>\n",
              "    </button>\n",
              "\n",
              "  <style>\n",
              "    .colab-df-container {\n",
              "      display:flex;\n",
              "      gap: 12px;\n",
              "    }\n",
              "\n",
              "    .colab-df-convert {\n",
              "      background-color: #E8F0FE;\n",
              "      border: none;\n",
              "      border-radius: 50%;\n",
              "      cursor: pointer;\n",
              "      display: none;\n",
              "      fill: #1967D2;\n",
              "      height: 32px;\n",
              "      padding: 0 0 0 0;\n",
              "      width: 32px;\n",
              "    }\n",
              "\n",
              "    .colab-df-convert:hover {\n",
              "      background-color: #E2EBFA;\n",
              "      box-shadow: 0px 1px 2px rgba(60, 64, 67, 0.3), 0px 1px 3px 1px rgba(60, 64, 67, 0.15);\n",
              "      fill: #174EA6;\n",
              "    }\n",
              "\n",
              "    .colab-df-buttons div {\n",
              "      margin-bottom: 4px;\n",
              "    }\n",
              "\n",
              "    [theme=dark] .colab-df-convert {\n",
              "      background-color: #3B4455;\n",
              "      fill: #D2E3FC;\n",
              "    }\n",
              "\n",
              "    [theme=dark] .colab-df-convert:hover {\n",
              "      background-color: #434B5C;\n",
              "      box-shadow: 0px 1px 3px 1px rgba(0, 0, 0, 0.15);\n",
              "      filter: drop-shadow(0px 1px 2px rgba(0, 0, 0, 0.3));\n",
              "      fill: #FFFFFF;\n",
              "    }\n",
              "  </style>\n",
              "\n",
              "    <script>\n",
              "      const buttonEl =\n",
              "        document.querySelector('#df-c2cc9bdb-af6a-4d23-b618-78cfc691a9c7 button.colab-df-convert');\n",
              "      buttonEl.style.display =\n",
              "        google.colab.kernel.accessAllowed ? 'block' : 'none';\n",
              "\n",
              "      async function convertToInteractive(key) {\n",
              "        const element = document.querySelector('#df-c2cc9bdb-af6a-4d23-b618-78cfc691a9c7');\n",
              "        const dataTable =\n",
              "          await google.colab.kernel.invokeFunction('convertToInteractive',\n",
              "                                                    [key], {});\n",
              "        if (!dataTable) return;\n",
              "\n",
              "        const docLinkHtml = 'Like what you see? Visit the ' +\n",
              "          '<a target=\"_blank\" href=https://colab.research.google.com/notebooks/data_table.ipynb>data table notebook</a>'\n",
              "          + ' to learn more about interactive tables.';\n",
              "        element.innerHTML = '';\n",
              "        dataTable['output_type'] = 'display_data';\n",
              "        await google.colab.output.renderOutput(dataTable, element);\n",
              "        const docLink = document.createElement('div');\n",
              "        docLink.innerHTML = docLinkHtml;\n",
              "        element.appendChild(docLink);\n",
              "      }\n",
              "    </script>\n",
              "  </div>\n",
              "\n",
              "\n",
              "<div id=\"df-b813b2c1-5990-4f8f-bf4a-db049acfafaf\">\n",
              "  <button class=\"colab-df-quickchart\" onclick=\"quickchart('df-b813b2c1-5990-4f8f-bf4a-db049acfafaf')\"\n",
              "            title=\"Suggest charts\"\n",
              "            style=\"display:none;\">\n",
              "\n",
              "<svg xmlns=\"http://www.w3.org/2000/svg\" height=\"24px\"viewBox=\"0 0 24 24\"\n",
              "     width=\"24px\">\n",
              "    <g>\n",
              "        <path d=\"M19 3H5c-1.1 0-2 .9-2 2v14c0 1.1.9 2 2 2h14c1.1 0 2-.9 2-2V5c0-1.1-.9-2-2-2zM9 17H7v-7h2v7zm4 0h-2V7h2v10zm4 0h-2v-4h2v4z\"/>\n",
              "    </g>\n",
              "</svg>\n",
              "  </button>\n",
              "\n",
              "<style>\n",
              "  .colab-df-quickchart {\n",
              "      --bg-color: #E8F0FE;\n",
              "      --fill-color: #1967D2;\n",
              "      --hover-bg-color: #E2EBFA;\n",
              "      --hover-fill-color: #174EA6;\n",
              "      --disabled-fill-color: #AAA;\n",
              "      --disabled-bg-color: #DDD;\n",
              "  }\n",
              "\n",
              "  [theme=dark] .colab-df-quickchart {\n",
              "      --bg-color: #3B4455;\n",
              "      --fill-color: #D2E3FC;\n",
              "      --hover-bg-color: #434B5C;\n",
              "      --hover-fill-color: #FFFFFF;\n",
              "      --disabled-bg-color: #3B4455;\n",
              "      --disabled-fill-color: #666;\n",
              "  }\n",
              "\n",
              "  .colab-df-quickchart {\n",
              "    background-color: var(--bg-color);\n",
              "    border: none;\n",
              "    border-radius: 50%;\n",
              "    cursor: pointer;\n",
              "    display: none;\n",
              "    fill: var(--fill-color);\n",
              "    height: 32px;\n",
              "    padding: 0;\n",
              "    width: 32px;\n",
              "  }\n",
              "\n",
              "  .colab-df-quickchart:hover {\n",
              "    background-color: var(--hover-bg-color);\n",
              "    box-shadow: 0 1px 2px rgba(60, 64, 67, 0.3), 0 1px 3px 1px rgba(60, 64, 67, 0.15);\n",
              "    fill: var(--button-hover-fill-color);\n",
              "  }\n",
              "\n",
              "  .colab-df-quickchart-complete:disabled,\n",
              "  .colab-df-quickchart-complete:disabled:hover {\n",
              "    background-color: var(--disabled-bg-color);\n",
              "    fill: var(--disabled-fill-color);\n",
              "    box-shadow: none;\n",
              "  }\n",
              "\n",
              "  .colab-df-spinner {\n",
              "    border: 2px solid var(--fill-color);\n",
              "    border-color: transparent;\n",
              "    border-bottom-color: var(--fill-color);\n",
              "    animation:\n",
              "      spin 1s steps(1) infinite;\n",
              "  }\n",
              "\n",
              "  @keyframes spin {\n",
              "    0% {\n",
              "      border-color: transparent;\n",
              "      border-bottom-color: var(--fill-color);\n",
              "      border-left-color: var(--fill-color);\n",
              "    }\n",
              "    20% {\n",
              "      border-color: transparent;\n",
              "      border-left-color: var(--fill-color);\n",
              "      border-top-color: var(--fill-color);\n",
              "    }\n",
              "    30% {\n",
              "      border-color: transparent;\n",
              "      border-left-color: var(--fill-color);\n",
              "      border-top-color: var(--fill-color);\n",
              "      border-right-color: var(--fill-color);\n",
              "    }\n",
              "    40% {\n",
              "      border-color: transparent;\n",
              "      border-right-color: var(--fill-color);\n",
              "      border-top-color: var(--fill-color);\n",
              "    }\n",
              "    60% {\n",
              "      border-color: transparent;\n",
              "      border-right-color: var(--fill-color);\n",
              "    }\n",
              "    80% {\n",
              "      border-color: transparent;\n",
              "      border-right-color: var(--fill-color);\n",
              "      border-bottom-color: var(--fill-color);\n",
              "    }\n",
              "    90% {\n",
              "      border-color: transparent;\n",
              "      border-bottom-color: var(--fill-color);\n",
              "    }\n",
              "  }\n",
              "</style>\n",
              "\n",
              "  <script>\n",
              "    async function quickchart(key) {\n",
              "      const quickchartButtonEl =\n",
              "        document.querySelector('#' + key + ' button');\n",
              "      quickchartButtonEl.disabled = true;  // To prevent multiple clicks.\n",
              "      quickchartButtonEl.classList.add('colab-df-spinner');\n",
              "      try {\n",
              "        const charts = await google.colab.kernel.invokeFunction(\n",
              "            'suggestCharts', [key], {});\n",
              "      } catch (error) {\n",
              "        console.error('Error during call to suggestCharts:', error);\n",
              "      }\n",
              "      quickchartButtonEl.classList.remove('colab-df-spinner');\n",
              "      quickchartButtonEl.classList.add('colab-df-quickchart-complete');\n",
              "    }\n",
              "    (() => {\n",
              "      let quickchartButtonEl =\n",
              "        document.querySelector('#df-b813b2c1-5990-4f8f-bf4a-db049acfafaf button');\n",
              "      quickchartButtonEl.style.display =\n",
              "        google.colab.kernel.accessAllowed ? 'block' : 'none';\n",
              "    })();\n",
              "  </script>\n",
              "</div>\n",
              "\n",
              "    </div>\n",
              "  </div>\n"
            ],
            "application/vnd.google.colaboratory.intrinsic+json": {
              "type": "dataframe",
              "variable_name": "x_train",
              "summary": "{\n  \"name\": \"x_train\",\n  \"rows\": 1734,\n  \"fields\": [\n    {\n      \"column\": \"SEX\",\n      \"properties\": {\n        \"dtype\": \"number\",\n        \"std\": 0,\n        \"min\": 0,\n        \"max\": 1,\n        \"num_unique_values\": 2,\n        \"samples\": [\n          1,\n          0\n        ],\n        \"semantic_type\": \"\",\n        \"description\": \"\"\n      }\n    },\n    {\n      \"column\": \"DESIGNATION\",\n      \"properties\": {\n        \"dtype\": \"number\",\n        \"std\": 1.106195843579075,\n        \"min\": 0.0,\n        \"max\": 5.0,\n        \"num_unique_values\": 6,\n        \"samples\": [\n          0.0,\n          1.0\n        ],\n        \"semantic_type\": \"\",\n        \"description\": \"\"\n      }\n    },\n    {\n      \"column\": \"AGE\",\n      \"properties\": {\n        \"dtype\": \"number\",\n        \"std\": 3.990352371061517,\n        \"min\": 21.0,\n        \"max\": 45.0,\n        \"num_unique_values\": 25,\n        \"samples\": [\n          32.0,\n          38.0\n        ],\n        \"semantic_type\": \"\",\n        \"description\": \"\"\n      }\n    },\n    {\n      \"column\": \"UNIT\",\n      \"properties\": {\n        \"dtype\": \"number\",\n        \"std\": 1,\n        \"min\": 0,\n        \"max\": 5,\n        \"num_unique_values\": 6,\n        \"samples\": [\n          1,\n          3\n        ],\n        \"semantic_type\": \"\",\n        \"description\": \"\"\n      }\n    },\n    {\n      \"column\": \"LEAVES USED\",\n      \"properties\": {\n        \"dtype\": \"number\",\n        \"std\": 4.583446553008913,\n        \"min\": 15.0,\n        \"max\": 30.0,\n        \"num_unique_values\": 16,\n        \"samples\": [\n          24.0,\n          27.0\n        ],\n        \"semantic_type\": \"\",\n        \"description\": \"\"\n      }\n    },\n    {\n      \"column\": \"LEAVES REMAINING\",\n      \"properties\": {\n        \"dtype\": \"number\",\n        \"std\": 4.582871058072964,\n        \"min\": 0.0,\n        \"max\": 15.0,\n        \"num_unique_values\": 16,\n        \"samples\": [\n          6.0,\n          3.0\n        ],\n        \"semantic_type\": \"\",\n        \"description\": \"\"\n      }\n    },\n    {\n      \"column\": \"RATINGS\",\n      \"properties\": {\n        \"dtype\": \"number\",\n        \"std\": 1.1192714291644623,\n        \"min\": 2.0,\n        \"max\": 5.0,\n        \"num_unique_values\": 4,\n        \"samples\": [\n          2.0,\n          4.0\n        ],\n        \"semantic_type\": \"\",\n        \"description\": \"\"\n      }\n    },\n    {\n      \"column\": \"PAST EXP\",\n      \"properties\": {\n        \"dtype\": \"number\",\n        \"std\": 2,\n        \"min\": 0,\n        \"max\": 23,\n        \"num_unique_values\": 21,\n        \"samples\": [\n          1,\n          15\n        ],\n        \"semantic_type\": \"\",\n        \"description\": \"\"\n      }\n    },\n    {\n      \"column\": \"years_experience\",\n      \"properties\": {\n        \"dtype\": \"number\",\n        \"std\": 0,\n        \"min\": 1,\n        \"max\": 7,\n        \"num_unique_values\": 7,\n        \"samples\": [\n          3,\n          2\n        ],\n        \"semantic_type\": \"\",\n        \"description\": \"\"\n      }\n    }\n  ]\n}"
            }
          },
          "metadata": {},
          "execution_count": 12
        }
      ]
    },
    {
      "cell_type": "markdown",
      "source": [
        "# Feature selection"
      ],
      "metadata": {
        "id": "uSuI0ePnhjLV"
      }
    },
    {
      "cell_type": "code",
      "source": [
        "# selecting best 6 features\n",
        "selector= SelectKBest(score_func = f_regression, k=6)\n",
        "x_train_new = selector.fit_transform(x_train, y_train)\n",
        "x_test_new = selector.transform(x_test)"
      ],
      "metadata": {
        "id": "Mx1mjkA4hl94"
      },
      "execution_count": 13,
      "outputs": []
    },
    {
      "cell_type": "code",
      "source": [
        "# extracting feature names\n",
        "selector.get_feature_names_out()"
      ],
      "metadata": {
        "colab": {
          "base_uri": "https://localhost:8080/"
        },
        "id": "UdD6QH5iiwc1",
        "outputId": "4e5e9fbf-655c-4ec8-c87f-d85e91c5b012"
      },
      "execution_count": 14,
      "outputs": [
        {
          "output_type": "execute_result",
          "data": {
            "text/plain": [
              "array(['SEX', 'DESIGNATION', 'AGE', 'UNIT', 'PAST EXP',\n",
              "       'years_experience'], dtype=object)"
            ]
          },
          "metadata": {},
          "execution_count": 14
        }
      ]
    },
    {
      "cell_type": "code",
      "source": [
        "# reassigning the selected features to training and test dataset\n",
        "x_train_new= pd.DataFrame(x_train_new, columns=selector.get_feature_names_out())\n",
        "x_test_new= pd.DataFrame(x_test_new, columns=selector.get_feature_names_out())"
      ],
      "metadata": {
        "id": "IYAZvNNbjzsG"
      },
      "execution_count": 15,
      "outputs": []
    },
    {
      "cell_type": "code",
      "source": [
        "x_train_new.head()"
      ],
      "metadata": {
        "colab": {
          "base_uri": "https://localhost:8080/",
          "height": 206
        },
        "id": "34btYGKtlKEv",
        "outputId": "72b58cc7-05f3-4834-fd97-9a8fd4d853ec"
      },
      "execution_count": 16,
      "outputs": [
        {
          "output_type": "execute_result",
          "data": {
            "text/plain": [
              "   SEX  DESIGNATION   AGE  UNIT  PAST EXP  years_experience\n",
              "0  0.0          0.0  25.0   1.0       1.0               3.0\n",
              "1  1.0          0.0  22.0   3.0       0.0               2.0\n",
              "2  0.0          0.0  25.0   1.0       1.0               3.0\n",
              "3  1.0          0.0  25.0   3.0       2.0               3.0\n",
              "4  1.0          0.0  23.0   0.0       0.0               3.0"
            ],
            "text/html": [
              "\n",
              "  <div id=\"df-1a61408f-b1d9-44d0-8ef0-03fafa87566c\" class=\"colab-df-container\">\n",
              "    <div>\n",
              "<style scoped>\n",
              "    .dataframe tbody tr th:only-of-type {\n",
              "        vertical-align: middle;\n",
              "    }\n",
              "\n",
              "    .dataframe tbody tr th {\n",
              "        vertical-align: top;\n",
              "    }\n",
              "\n",
              "    .dataframe thead th {\n",
              "        text-align: right;\n",
              "    }\n",
              "</style>\n",
              "<table border=\"1\" class=\"dataframe\">\n",
              "  <thead>\n",
              "    <tr style=\"text-align: right;\">\n",
              "      <th></th>\n",
              "      <th>SEX</th>\n",
              "      <th>DESIGNATION</th>\n",
              "      <th>AGE</th>\n",
              "      <th>UNIT</th>\n",
              "      <th>PAST EXP</th>\n",
              "      <th>years_experience</th>\n",
              "    </tr>\n",
              "  </thead>\n",
              "  <tbody>\n",
              "    <tr>\n",
              "      <th>0</th>\n",
              "      <td>0.0</td>\n",
              "      <td>0.0</td>\n",
              "      <td>25.0</td>\n",
              "      <td>1.0</td>\n",
              "      <td>1.0</td>\n",
              "      <td>3.0</td>\n",
              "    </tr>\n",
              "    <tr>\n",
              "      <th>1</th>\n",
              "      <td>1.0</td>\n",
              "      <td>0.0</td>\n",
              "      <td>22.0</td>\n",
              "      <td>3.0</td>\n",
              "      <td>0.0</td>\n",
              "      <td>2.0</td>\n",
              "    </tr>\n",
              "    <tr>\n",
              "      <th>2</th>\n",
              "      <td>0.0</td>\n",
              "      <td>0.0</td>\n",
              "      <td>25.0</td>\n",
              "      <td>1.0</td>\n",
              "      <td>1.0</td>\n",
              "      <td>3.0</td>\n",
              "    </tr>\n",
              "    <tr>\n",
              "      <th>3</th>\n",
              "      <td>1.0</td>\n",
              "      <td>0.0</td>\n",
              "      <td>25.0</td>\n",
              "      <td>3.0</td>\n",
              "      <td>2.0</td>\n",
              "      <td>3.0</td>\n",
              "    </tr>\n",
              "    <tr>\n",
              "      <th>4</th>\n",
              "      <td>1.0</td>\n",
              "      <td>0.0</td>\n",
              "      <td>23.0</td>\n",
              "      <td>0.0</td>\n",
              "      <td>0.0</td>\n",
              "      <td>3.0</td>\n",
              "    </tr>\n",
              "  </tbody>\n",
              "</table>\n",
              "</div>\n",
              "    <div class=\"colab-df-buttons\">\n",
              "\n",
              "  <div class=\"colab-df-container\">\n",
              "    <button class=\"colab-df-convert\" onclick=\"convertToInteractive('df-1a61408f-b1d9-44d0-8ef0-03fafa87566c')\"\n",
              "            title=\"Convert this dataframe to an interactive table.\"\n",
              "            style=\"display:none;\">\n",
              "\n",
              "  <svg xmlns=\"http://www.w3.org/2000/svg\" height=\"24px\" viewBox=\"0 -960 960 960\">\n",
              "    <path d=\"M120-120v-720h720v720H120Zm60-500h600v-160H180v160Zm220 220h160v-160H400v160Zm0 220h160v-160H400v160ZM180-400h160v-160H180v160Zm440 0h160v-160H620v160ZM180-180h160v-160H180v160Zm440 0h160v-160H620v160Z\"/>\n",
              "  </svg>\n",
              "    </button>\n",
              "\n",
              "  <style>\n",
              "    .colab-df-container {\n",
              "      display:flex;\n",
              "      gap: 12px;\n",
              "    }\n",
              "\n",
              "    .colab-df-convert {\n",
              "      background-color: #E8F0FE;\n",
              "      border: none;\n",
              "      border-radius: 50%;\n",
              "      cursor: pointer;\n",
              "      display: none;\n",
              "      fill: #1967D2;\n",
              "      height: 32px;\n",
              "      padding: 0 0 0 0;\n",
              "      width: 32px;\n",
              "    }\n",
              "\n",
              "    .colab-df-convert:hover {\n",
              "      background-color: #E2EBFA;\n",
              "      box-shadow: 0px 1px 2px rgba(60, 64, 67, 0.3), 0px 1px 3px 1px rgba(60, 64, 67, 0.15);\n",
              "      fill: #174EA6;\n",
              "    }\n",
              "\n",
              "    .colab-df-buttons div {\n",
              "      margin-bottom: 4px;\n",
              "    }\n",
              "\n",
              "    [theme=dark] .colab-df-convert {\n",
              "      background-color: #3B4455;\n",
              "      fill: #D2E3FC;\n",
              "    }\n",
              "\n",
              "    [theme=dark] .colab-df-convert:hover {\n",
              "      background-color: #434B5C;\n",
              "      box-shadow: 0px 1px 3px 1px rgba(0, 0, 0, 0.15);\n",
              "      filter: drop-shadow(0px 1px 2px rgba(0, 0, 0, 0.3));\n",
              "      fill: #FFFFFF;\n",
              "    }\n",
              "  </style>\n",
              "\n",
              "    <script>\n",
              "      const buttonEl =\n",
              "        document.querySelector('#df-1a61408f-b1d9-44d0-8ef0-03fafa87566c button.colab-df-convert');\n",
              "      buttonEl.style.display =\n",
              "        google.colab.kernel.accessAllowed ? 'block' : 'none';\n",
              "\n",
              "      async function convertToInteractive(key) {\n",
              "        const element = document.querySelector('#df-1a61408f-b1d9-44d0-8ef0-03fafa87566c');\n",
              "        const dataTable =\n",
              "          await google.colab.kernel.invokeFunction('convertToInteractive',\n",
              "                                                    [key], {});\n",
              "        if (!dataTable) return;\n",
              "\n",
              "        const docLinkHtml = 'Like what you see? Visit the ' +\n",
              "          '<a target=\"_blank\" href=https://colab.research.google.com/notebooks/data_table.ipynb>data table notebook</a>'\n",
              "          + ' to learn more about interactive tables.';\n",
              "        element.innerHTML = '';\n",
              "        dataTable['output_type'] = 'display_data';\n",
              "        await google.colab.output.renderOutput(dataTable, element);\n",
              "        const docLink = document.createElement('div');\n",
              "        docLink.innerHTML = docLinkHtml;\n",
              "        element.appendChild(docLink);\n",
              "      }\n",
              "    </script>\n",
              "  </div>\n",
              "\n",
              "\n",
              "<div id=\"df-2a6cf985-122f-414d-ab7e-d04ae4180b7d\">\n",
              "  <button class=\"colab-df-quickchart\" onclick=\"quickchart('df-2a6cf985-122f-414d-ab7e-d04ae4180b7d')\"\n",
              "            title=\"Suggest charts\"\n",
              "            style=\"display:none;\">\n",
              "\n",
              "<svg xmlns=\"http://www.w3.org/2000/svg\" height=\"24px\"viewBox=\"0 0 24 24\"\n",
              "     width=\"24px\">\n",
              "    <g>\n",
              "        <path d=\"M19 3H5c-1.1 0-2 .9-2 2v14c0 1.1.9 2 2 2h14c1.1 0 2-.9 2-2V5c0-1.1-.9-2-2-2zM9 17H7v-7h2v7zm4 0h-2V7h2v10zm4 0h-2v-4h2v4z\"/>\n",
              "    </g>\n",
              "</svg>\n",
              "  </button>\n",
              "\n",
              "<style>\n",
              "  .colab-df-quickchart {\n",
              "      --bg-color: #E8F0FE;\n",
              "      --fill-color: #1967D2;\n",
              "      --hover-bg-color: #E2EBFA;\n",
              "      --hover-fill-color: #174EA6;\n",
              "      --disabled-fill-color: #AAA;\n",
              "      --disabled-bg-color: #DDD;\n",
              "  }\n",
              "\n",
              "  [theme=dark] .colab-df-quickchart {\n",
              "      --bg-color: #3B4455;\n",
              "      --fill-color: #D2E3FC;\n",
              "      --hover-bg-color: #434B5C;\n",
              "      --hover-fill-color: #FFFFFF;\n",
              "      --disabled-bg-color: #3B4455;\n",
              "      --disabled-fill-color: #666;\n",
              "  }\n",
              "\n",
              "  .colab-df-quickchart {\n",
              "    background-color: var(--bg-color);\n",
              "    border: none;\n",
              "    border-radius: 50%;\n",
              "    cursor: pointer;\n",
              "    display: none;\n",
              "    fill: var(--fill-color);\n",
              "    height: 32px;\n",
              "    padding: 0;\n",
              "    width: 32px;\n",
              "  }\n",
              "\n",
              "  .colab-df-quickchart:hover {\n",
              "    background-color: var(--hover-bg-color);\n",
              "    box-shadow: 0 1px 2px rgba(60, 64, 67, 0.3), 0 1px 3px 1px rgba(60, 64, 67, 0.15);\n",
              "    fill: var(--button-hover-fill-color);\n",
              "  }\n",
              "\n",
              "  .colab-df-quickchart-complete:disabled,\n",
              "  .colab-df-quickchart-complete:disabled:hover {\n",
              "    background-color: var(--disabled-bg-color);\n",
              "    fill: var(--disabled-fill-color);\n",
              "    box-shadow: none;\n",
              "  }\n",
              "\n",
              "  .colab-df-spinner {\n",
              "    border: 2px solid var(--fill-color);\n",
              "    border-color: transparent;\n",
              "    border-bottom-color: var(--fill-color);\n",
              "    animation:\n",
              "      spin 1s steps(1) infinite;\n",
              "  }\n",
              "\n",
              "  @keyframes spin {\n",
              "    0% {\n",
              "      border-color: transparent;\n",
              "      border-bottom-color: var(--fill-color);\n",
              "      border-left-color: var(--fill-color);\n",
              "    }\n",
              "    20% {\n",
              "      border-color: transparent;\n",
              "      border-left-color: var(--fill-color);\n",
              "      border-top-color: var(--fill-color);\n",
              "    }\n",
              "    30% {\n",
              "      border-color: transparent;\n",
              "      border-left-color: var(--fill-color);\n",
              "      border-top-color: var(--fill-color);\n",
              "      border-right-color: var(--fill-color);\n",
              "    }\n",
              "    40% {\n",
              "      border-color: transparent;\n",
              "      border-right-color: var(--fill-color);\n",
              "      border-top-color: var(--fill-color);\n",
              "    }\n",
              "    60% {\n",
              "      border-color: transparent;\n",
              "      border-right-color: var(--fill-color);\n",
              "    }\n",
              "    80% {\n",
              "      border-color: transparent;\n",
              "      border-right-color: var(--fill-color);\n",
              "      border-bottom-color: var(--fill-color);\n",
              "    }\n",
              "    90% {\n",
              "      border-color: transparent;\n",
              "      border-bottom-color: var(--fill-color);\n",
              "    }\n",
              "  }\n",
              "</style>\n",
              "\n",
              "  <script>\n",
              "    async function quickchart(key) {\n",
              "      const quickchartButtonEl =\n",
              "        document.querySelector('#' + key + ' button');\n",
              "      quickchartButtonEl.disabled = true;  // To prevent multiple clicks.\n",
              "      quickchartButtonEl.classList.add('colab-df-spinner');\n",
              "      try {\n",
              "        const charts = await google.colab.kernel.invokeFunction(\n",
              "            'suggestCharts', [key], {});\n",
              "      } catch (error) {\n",
              "        console.error('Error during call to suggestCharts:', error);\n",
              "      }\n",
              "      quickchartButtonEl.classList.remove('colab-df-spinner');\n",
              "      quickchartButtonEl.classList.add('colab-df-quickchart-complete');\n",
              "    }\n",
              "    (() => {\n",
              "      let quickchartButtonEl =\n",
              "        document.querySelector('#df-2a6cf985-122f-414d-ab7e-d04ae4180b7d button');\n",
              "      quickchartButtonEl.style.display =\n",
              "        google.colab.kernel.accessAllowed ? 'block' : 'none';\n",
              "    })();\n",
              "  </script>\n",
              "</div>\n",
              "\n",
              "    </div>\n",
              "  </div>\n"
            ],
            "application/vnd.google.colaboratory.intrinsic+json": {
              "type": "dataframe",
              "variable_name": "x_train_new",
              "summary": "{\n  \"name\": \"x_train_new\",\n  \"rows\": 1734,\n  \"fields\": [\n    {\n      \"column\": \"SEX\",\n      \"properties\": {\n        \"dtype\": \"number\",\n        \"std\": 0.5000880115762836,\n        \"min\": 0.0,\n        \"max\": 1.0,\n        \"num_unique_values\": 2,\n        \"samples\": [\n          1.0,\n          0.0\n        ],\n        \"semantic_type\": \"\",\n        \"description\": \"\"\n      }\n    },\n    {\n      \"column\": \"DESIGNATION\",\n      \"properties\": {\n        \"dtype\": \"number\",\n        \"std\": 1.106195843579075,\n        \"min\": 0.0,\n        \"max\": 5.0,\n        \"num_unique_values\": 6,\n        \"samples\": [\n          0.0,\n          1.0\n        ],\n        \"semantic_type\": \"\",\n        \"description\": \"\"\n      }\n    },\n    {\n      \"column\": \"AGE\",\n      \"properties\": {\n        \"dtype\": \"number\",\n        \"std\": 3.990352371061517,\n        \"min\": 21.0,\n        \"max\": 45.0,\n        \"num_unique_values\": 25,\n        \"samples\": [\n          32.0,\n          38.0\n        ],\n        \"semantic_type\": \"\",\n        \"description\": \"\"\n      }\n    },\n    {\n      \"column\": \"UNIT\",\n      \"properties\": {\n        \"dtype\": \"number\",\n        \"std\": 1.7196825674676914,\n        \"min\": 0.0,\n        \"max\": 5.0,\n        \"num_unique_values\": 6,\n        \"samples\": [\n          1.0,\n          3.0\n        ],\n        \"semantic_type\": \"\",\n        \"description\": \"\"\n      }\n    },\n    {\n      \"column\": \"PAST EXP\",\n      \"properties\": {\n        \"dtype\": \"number\",\n        \"std\": 2.8158064408849364,\n        \"min\": 0.0,\n        \"max\": 23.0,\n        \"num_unique_values\": 21,\n        \"samples\": [\n          1.0,\n          15.0\n        ],\n        \"semantic_type\": \"\",\n        \"description\": \"\"\n      }\n    },\n    {\n      \"column\": \"years_experience\",\n      \"properties\": {\n        \"dtype\": \"number\",\n        \"std\": 0.874607622287149,\n        \"min\": 1.0,\n        \"max\": 7.0,\n        \"num_unique_values\": 7,\n        \"samples\": [\n          3.0,\n          2.0\n        ],\n        \"semantic_type\": \"\",\n        \"description\": \"\"\n      }\n    }\n  ]\n}"
            }
          },
          "metadata": {},
          "execution_count": 16
        }
      ]
    },
    {
      "cell_type": "markdown",
      "source": [
        "# handling outliers (not including this step for this dataset)"
      ],
      "metadata": {
        "id": "j5czPVIL4Evb"
      }
    },
    {
      "cell_type": "code",
      "source": [
        "# def outlier_cal(y):\n",
        "#   '''\n",
        "#   y is a pandas dataframe\n",
        "#   '''\n",
        "#   outliers=[]\n",
        "#   for col in y.columns:\n",
        "#     if y[col].dtype != 'object':\n",
        "#       q1=y[col].quantile(0.25)\n",
        "#       q3=y[col].quantile(0.75)\n",
        "\n",
        "#       iqr=q3-q1\n",
        "\n",
        "#       upper=q3+(1.5*iqr)\n",
        "#       lower=q1-(1.5*iqr)\n",
        "#       feature_outliers = np.where((y[col] < lower) | (y[col] > upper))[0]\n",
        "#       outliers.extend(feature_outliers)\n",
        "#   return np.unique(outliers)"
      ],
      "metadata": {
        "id": "liEnuFYyuntI"
      },
      "execution_count": null,
      "outputs": []
    },
    {
      "cell_type": "code",
      "source": [
        "# outliers = outlier_cal(x_train)\n",
        "# print(\"Indices of outliers:\", outliers)\n"
      ],
      "metadata": {
        "colab": {
          "base_uri": "https://localhost:8080/"
        },
        "id": "yWuD2c_E2z55",
        "outputId": "5d1dc176-3454-417b-b8f1-be8bbeab5040"
      },
      "execution_count": null,
      "outputs": [
        {
          "output_type": "stream",
          "name": "stdout",
          "text": [
            "Indices of outliers: [   2    3    7   15   26   28   31   33   34   40   43   45   48   53\n",
            "   54   57   59   67   72   80   82   87   91   94   95   96   97  101\n",
            "  103  104  106  109  111  113  114  115  119  120  127  130  144  149\n",
            "  152  153  161  162  167  179  185  186  187  189  193  198  199  201\n",
            "  203  209  217  222  229  230  232  233  241  243  247  249  258  260\n",
            "  265  267  268  271  272  282  283  286  287  293  294  296  298  310\n",
            "  314  318  325  327  338  340  346  349  350  358  360  367  368  370\n",
            "  375  379  382  384  389  390  397  399  401  403  406  409  415  423\n",
            "  424  426  431  433  436  438  449  450  453  459  461  462  464  467\n",
            "  470  471  481  487  492  495  507  511  512  519  522  523  524  529\n",
            "  537  539  541  543  544  546  550  551  557  561  563  565  574  581\n",
            "  585  586  591  593  595  601  605  606  608  611  612  615  617  618\n",
            "  619  625  647  652  653  657  659  660  664  666  667  673  676  677\n",
            "  680  682  684  686  688  690  697  704  705  712  718  719  723  739\n",
            "  747  752  753  756  759  767  771  775  782  785  792  793  797  798\n",
            "  799  812  823  828  832  833  842  846  849  853  856  860  866  867\n",
            "  869  879  886  891  894  895  897  900  904  905  906  910  911  915\n",
            "  920  921  932  940  952  960  962  964  969  970  971  973  976  979\n",
            "  980  983  986  987  993  996  997 1002 1021 1022 1045 1051 1066 1073\n",
            " 1076 1079 1081 1084 1088 1095 1097 1099 1100 1102 1112 1117 1120 1125\n",
            " 1126 1130 1132 1137 1138 1149 1154 1163 1174 1175 1185 1189 1200 1205\n",
            " 1206 1208 1220 1226 1227 1230 1231 1236 1244 1253 1258 1260 1268 1269\n",
            " 1272 1273 1275 1277 1279 1282 1284 1285 1296 1297 1300 1301 1305 1306\n",
            " 1311 1316 1318 1328 1330 1331 1338 1343 1347 1351 1353 1356 1357 1360\n",
            " 1362 1363 1365 1366 1374 1377 1378 1381 1382 1384 1395 1396 1397 1403\n",
            " 1405 1412 1415 1418 1424 1426 1429 1438 1441 1448 1449 1453 1459 1468\n",
            " 1469 1476 1482 1483 1488 1494 1502 1505 1515 1517 1525 1527 1528 1529\n",
            " 1537 1539 1544 1545 1546 1548 1549 1550 1556 1563 1564 1565 1570 1574\n",
            " 1575 1579 1589 1590 1595 1597 1608 1611 1617 1620 1623 1624 1628 1629\n",
            " 1630 1633 1641 1652 1653 1655 1659 1660 1661 1663 1672 1674 1680 1693\n",
            " 1705 1706 1711 1723 1724 1729 1731 1732 1733]\n"
          ]
        }
      ]
    },
    {
      "cell_type": "code",
      "source": [
        "# x_train_no_outliers = x_train[~np.isin(np.arange(len(x_train)), outliers)]\n",
        "# y_train_no_outliers = y_train[~np.isin(np.arange(len(y_train)), outliers)]"
      ],
      "metadata": {
        "id": "LdODlCKDyGiS"
      },
      "execution_count": null,
      "outputs": []
    },
    {
      "cell_type": "code",
      "source": [
        "# outliers_test= outlier_cal(x_test)\n",
        "# print(\"Indices of outliers:\", outliers_test)"
      ],
      "metadata": {
        "colab": {
          "base_uri": "https://localhost:8080/"
        },
        "id": "6LHw8Lt55qUK",
        "outputId": "8f3d0fba-d3bb-4058-863e-b184473d8178"
      },
      "execution_count": null,
      "outputs": [
        {
          "output_type": "stream",
          "name": "stdout",
          "text": [
            "Indices of outliers: [  2   5  16  28  50  51  54  63  67  82  90 114 119 124 126 129 131 132\n",
            " 143 145 147 171 173 189 204 205 211 212 215 217 219 227 232 236 255 257\n",
            " 272 279 294 306 310 319 337 338 339 343 366 367 372 403 405 408 420 436\n",
            " 437 442 460 461 471 473 477 480 509 522 545 554 560 564 572 580 581 583\n",
            " 584 592 595 598 601 605 606 618 620 621 639 657 658 662 671 681 686 689\n",
            " 690 699 711 716 718 722 724 731]\n"
          ]
        }
      ]
    },
    {
      "cell_type": "code",
      "source": [
        "# x_test_no_outliers = x_test[~np.isin(np.arange(len(x_test)), outliers)]\n",
        "# y_test_no_outliers = y_test[~np.isin(np.arange(len(y_test)), outliers)]"
      ],
      "metadata": {
        "id": "GwhO38fJ5v4K"
      },
      "execution_count": null,
      "outputs": []
    },
    {
      "cell_type": "code",
      "source": [
        "# x_train_no_outliers.shape, x_test_no_outliers.shape, y_train_no_outliers.shape, y_test_no_outliers.shape"
      ],
      "metadata": {
        "colab": {
          "base_uri": "https://localhost:8080/"
        },
        "id": "zwo8txhE64qS",
        "outputId": "15ad6685-a0a5-4bf1-eb0b-1b3e0e240a23"
      },
      "execution_count": null,
      "outputs": [
        {
          "output_type": "execute_result",
          "data": {
            "text/plain": [
              "((1305, 9), (548, 9), (1305,), (548,))"
            ]
          },
          "metadata": {},
          "execution_count": 85
        }
      ]
    },
    {
      "cell_type": "markdown",
      "source": [
        "# Correlation study"
      ],
      "metadata": {
        "id": "jKINXD0PAmU_"
      }
    },
    {
      "cell_type": "code",
      "source": [
        "corr_matrix= x_train_new.corr(numeric_only=True)\n",
        "\n",
        "plt.figure(figsize=(10, 8))\n",
        "sns.heatmap(corr_matrix, annot=True, cmap='coolwarm', fmt='.2f')\n",
        "plt.title('Correlation Matrix')\n",
        "plt.show()"
      ],
      "metadata": {
        "colab": {
          "base_uri": "https://localhost:8080/",
          "height": 699
        },
        "id": "4yJovlcsDPX0",
        "outputId": "7c2c1c20-61f1-4240-ae9e-15476dafe583"
      },
      "execution_count": 17,
      "outputs": [
        {
          "output_type": "display_data",
          "data": {
            "text/plain": [
              "<Figure size 1000x800 with 2 Axes>"
            ],
            "image/png": "[encoded data removed]"
          },
          "metadata": {}
        }
      ]
    },
    {
      "cell_type": "code",
      "source": [
        "# dropping columns with correlation exceeding [-0.8,0.8]\n",
        "x_train_new = x_train.drop(columns=['AGE'])\n",
        "x_test_new = x_test.drop(columns=['AGE'])"
      ],
      "metadata": {
        "id": "EqqBquktE-n5"
      },
      "execution_count": 18,
      "outputs": []
    },
    {
      "cell_type": "markdown",
      "source": [
        "# Models"
      ],
      "metadata": {
        "id": "d3Cl8bMPjB6_"
      }
    },
    {
      "cell_type": "markdown",
      "source": [
        "## Helper functions to streamline the process"
      ],
      "metadata": {
        "id": "UxX9_-4ToPlw"
      }
    },
    {
      "cell_type": "code",
      "source": [
        "def scorer(model_name, dictionary_name, y_test, pred):\n",
        "  '''\n",
        "    A metric scorer for regression tasks\n",
        "\n",
        "    This function takes the following arguments:\n",
        "    - model_name: a string representing the name of the model.\n",
        "    - dictionary_name: a dictionary where the scores will be stored.\n",
        "    - y_test: a pandas Series or array representing the true target values for the test set.\n",
        "    - pred: a pandas Series or array representing the predicted target values for the test set.\n",
        "\n",
        "    The function calculates Mean Absolute Error, Mean Squared Error, Root Mean Squared Error, and R2 score for the model,\n",
        "    stores them in the provided dictionary under the key of the model name, and returns the dictionary.\n",
        "\n",
        "  '''\n",
        "  from sklearn import metrics\n",
        "  dictionary_name[model_name]={'Mean Absolute Error' : metrics.mean_absolute_error(y_test, pred),\n",
        "                              'Mean Squared Error' : metrics.mean_squared_error(y_test, pred),\n",
        "                              'Root Mean Squared Error': np.sqrt(metrics.mean_squared_error(y_test, pred)),\n",
        "                              'R2 score' : metrics.r2_score(y_test,pred)}\n",
        "  return dictionary_name[model_name]"
      ],
      "metadata": {
        "id": "x7BBi7NZYnFi"
      },
      "execution_count": 19,
      "outputs": []
    },
    {
      "cell_type": "code",
      "source": [
        "def train_test_score_compare(model, x_train, x_test, y_train, y_test):\n",
        "  from sklearn import metrics\n",
        "  model.fit(x_train, y_train)\n",
        "\n",
        "  # Predict\n",
        "  y_pred_train = model.predict(x_train_new)\n",
        "  y_pred_test = model.predict(x_test_new)\n",
        "\n",
        "  # Evaluate the model\n",
        "  mae_train = metrics.mean_absolute_error(y_train, y_pred_train)\n",
        "  mse_train = mean_squared_error(y_train, y_pred_train)\n",
        "  r2_train = r2_score(y_train, y_pred_train)\n",
        "\n",
        "  mae_test = metrics.mean_absolute_error(y_test, y_pred_test)\n",
        "  mse_test = mean_squared_error(y_test, y_pred_test)\n",
        "  r2_test = r2_score(y_test, y_pred_test)\n",
        "\n",
        "  print(f\"{model} values:\")\n",
        "  print(\"Train MAE:\", mae_train)\n",
        "  print(\"Train MSE:\", mse_train)\n",
        "  print(\"Train R2:\", r2_train)\n",
        "  print(\"Test MAE:\", mae_test)\n",
        "  print(\"Test MSE:\", mse_test)\n",
        "  print(\"Test R2:\", r2_test)"
      ],
      "metadata": {
        "id": "o-6YEZZQX9Bm"
      },
      "execution_count": 20,
      "outputs": []
    },
    {
      "cell_type": "markdown",
      "source": [
        "## Defining a `scores` dataframe to store model scores."
      ],
      "metadata": {
        "id": "AbEaj26lt2Tp"
      }
    },
    {
      "cell_type": "code",
      "source": [
        "# defining a score dataframe for model scores for comparison later\n",
        "scores = pd.DataFrame()\n",
        "pd.set_option('display.float_format', lambda x: '%.12f' % x)"
      ],
      "metadata": {
        "id": "K0XGZoaiLK20"
      },
      "execution_count": 21,
      "outputs": []
    },
    {
      "cell_type": "markdown",
      "source": [
        "## Lasso Regression"
      ],
      "metadata": {
        "id": "Cymj8gBZJYc7"
      }
    },
    {
      "cell_type": "code",
      "source": [
        "from sklearn.linear_model import Lasso\n",
        "\n",
        "lasso=Lasso(alpha=2, max_iter=10000)\n",
        "lasso.fit(x_train_new,y_train)\n",
        "pred=lasso.predict(x_test_new)"
      ],
      "metadata": {
        "id": "dj-obKyn7ozh"
      },
      "execution_count": 22,
      "outputs": []
    },
    {
      "cell_type": "code",
      "source": [
        "scorer('Lasso Regression', scores, y_test, pred)"
      ],
      "metadata": {
        "colab": {
          "base_uri": "https://localhost:8080/"
        },
        "id": "MBrsMFbMn9bJ",
        "outputId": "17c0d3c6-3052-4012-87ab-3b7f2ee8da22"
      },
      "execution_count": 23,
      "outputs": [
        {
          "output_type": "execute_result",
          "data": {
            "text/plain": [
              "Mean Absolute Error            9093.064984996816\n",
              "Mean Squared Error        161629352.924977660179\n",
              "Root Mean Squared Error       12713.353331241040\n",
              "R2 score                          0.823429504510\n",
              "Name: Lasso Regression, dtype: float64"
            ]
          },
          "metadata": {},
          "execution_count": 23
        }
      ]
    },
    {
      "cell_type": "code",
      "source": [
        "train_test_score_compare(lasso, x_train_new, x_test_new, y_train, y_test)"
      ],
      "metadata": {
        "colab": {
          "base_uri": "https://localhost:8080/"
        },
        "id": "ks6j1D4HjvBY",
        "outputId": "18dc0fa1-31ee-49ba-dcae-7f85a755d1fe"
      },
      "execution_count": 24,
      "outputs": [
        {
          "output_type": "stream",
          "name": "stdout",
          "text": [
            "Lasso(alpha=2, max_iter=10000) values:\n",
            "Train MAE: 9838.065044055245\n",
            "Train MSE: 268445718.9744407\n",
            "Train R2: 0.825646177667023\n",
            "Test MAE: 9093.064984996816\n",
            "Test MSE: 161629352.92497766\n",
            "Test R2: 0.8234295045101444\n"
          ]
        }
      ]
    },
    {
      "cell_type": "markdown",
      "source": [
        "## Random Forest Regressor"
      ],
      "metadata": {
        "id": "8dpGhLQQSPGm"
      }
    },
    {
      "cell_type": "code",
      "source": [
        "from sklearn.ensemble import RandomForestRegressor\n",
        "rf=RandomForestRegressor(n_estimators=100)\n",
        "rf.fit(x_train_new,y_train)\n",
        "pred=rf.predict(x_test_new)"
      ],
      "metadata": {
        "id": "vPCjyq4nS6TM"
      },
      "execution_count": 25,
      "outputs": []
    },
    {
      "cell_type": "code",
      "source": [
        "scorer('Random Forest Regressor', scores, y_test, pred)"
      ],
      "metadata": {
        "colab": {
          "base_uri": "https://localhost:8080/"
        },
        "id": "8lkUp2tjS5_K",
        "outputId": "9b62d51a-f58f-48cf-dd10-515a8c3d55d9"
      },
      "execution_count": 26,
      "outputs": [
        {
          "output_type": "execute_result",
          "data": {
            "text/plain": [
              "Mean Absolute Error           4434.525715587130\n",
              "Mean Squared Error        53427576.224574737251\n",
              "Root Mean Squared Error       7309.416955173288\n",
              "R2 score                         0.941633537250\n",
              "Name: Random Forest Regressor, dtype: float64"
            ]
          },
          "metadata": {},
          "execution_count": 26
        }
      ]
    },
    {
      "cell_type": "code",
      "source": [
        "train_test_score_compare(rf, x_train_new, x_test_new, y_train, y_test)"
      ],
      "metadata": {
        "colab": {
          "base_uri": "https://localhost:8080/"
        },
        "id": "sMTiIr4cj8Sk",
        "outputId": "c8be7cbe-66a4-4da4-dad8-4c2b9ea62b63"
      },
      "execution_count": 27,
      "outputs": [
        {
          "output_type": "stream",
          "name": "stdout",
          "text": [
            "RandomForestRegressor() values:\n",
            "Train MAE: 1784.4180150560223\n",
            "Train MSE: 11047564.441979023\n",
            "Train R2: 0.9928246757099065\n",
            "Test MAE: 4458.201735812425\n",
            "Test MSE: 53882851.29501894\n",
            "Test R2: 0.9411361761994815\n"
          ]
        }
      ]
    },
    {
      "cell_type": "markdown",
      "source": [
        "## Gradient Boosting Machine"
      ],
      "metadata": {
        "id": "ABcbhixCSV-d"
      }
    },
    {
      "cell_type": "code",
      "source": [
        "from sklearn.ensemble import GradientBoostingRegressor\n",
        "gbr=GradientBoostingRegressor()\n",
        "gbr.fit(x_train_new,y_train)\n",
        "pred=gbr.predict(x_test_new)"
      ],
      "metadata": {
        "id": "dfo8IBaFTS5-"
      },
      "execution_count": 28,
      "outputs": []
    },
    {
      "cell_type": "code",
      "source": [
        "scorer('Gradient Boosting Regressor', scores, y_test, pred)"
      ],
      "metadata": {
        "colab": {
          "base_uri": "https://localhost:8080/"
        },
        "id": "541KtElDUjIk",
        "outputId": "3b90e9fa-64fe-45e8-9837-c47fbbd41df8"
      },
      "execution_count": 29,
      "outputs": [
        {
          "output_type": "execute_result",
          "data": {
            "text/plain": [
              "Mean Absolute Error           4096.126598626272\n",
              "Mean Squared Error        46235380.812073223293\n",
              "Root Mean Squared Error       6799.660345346172\n",
              "R2 score                         0.949490584777\n",
              "Name: Gradient Boosting Regressor, dtype: float64"
            ]
          },
          "metadata": {},
          "execution_count": 29
        }
      ]
    },
    {
      "cell_type": "code",
      "source": [
        "train_test_score_compare(gbr, x_train_new, x_test_new, y_train, y_test)"
      ],
      "metadata": {
        "colab": {
          "base_uri": "https://localhost:8080/"
        },
        "id": "qyp5-DgXkBjm",
        "outputId": "ca2ab789-9a75-49e6-d80e-f6dd1aef7ffa"
      },
      "execution_count": 30,
      "outputs": [
        {
          "output_type": "stream",
          "name": "stdout",
          "text": [
            "GradientBoostingRegressor() values:\n",
            "Train MAE: 3566.792913437127\n",
            "Train MSE: 24584753.521906987\n",
            "Train R2: 0.9840323557252678\n",
            "Test MAE: 4088.937718146057\n",
            "Test MSE: 45589950.21463612\n",
            "Test R2: 0.9501956794785129\n"
          ]
        }
      ]
    },
    {
      "cell_type": "markdown",
      "source": [
        "## XGboost"
      ],
      "metadata": {
        "id": "JZtZRqocSgMp"
      }
    },
    {
      "cell_type": "code",
      "source": [
        "import xgboost as xgb\n",
        "xgb=xgb.XGBRegressor()\n",
        "xgb.fit(x_train_new,y_train)\n",
        "pred=xgb.predict(x_test_new)"
      ],
      "metadata": {
        "id": "-j5AYS7PUyFW"
      },
      "execution_count": 31,
      "outputs": []
    },
    {
      "cell_type": "code",
      "source": [
        "scorer('XGBoost Regressor', scores, y_test, pred)"
      ],
      "metadata": {
        "colab": {
          "base_uri": "https://localhost:8080/"
        },
        "id": "MKDWelR2WVPe",
        "outputId": "60e769a4-751a-4eea-9b4d-93e4e2ee10e8"
      },
      "execution_count": 32,
      "outputs": [
        {
          "output_type": "execute_result",
          "data": {
            "text/plain": [
              "Mean Absolute Error           4660.627037130376\n",
              "Mean Squared Error        69785339.797168895602\n",
              "Root Mean Squared Error       8353.762014635615\n",
              "R2 score                         0.923763649344\n",
              "Name: XGBoost Regressor, dtype: float64"
            ]
          },
          "metadata": {},
          "execution_count": 32
        }
      ]
    },
    {
      "cell_type": "code",
      "source": [
        "train_test_score_compare(xgb, x_train_new, x_test_new, y_train, y_test)"
      ],
      "metadata": {
        "colab": {
          "base_uri": "https://localhost:8080/"
        },
        "id": "ucBmx4nIkTc-",
        "outputId": "d853a4e5-262c-494b-ad73-f6ead8fa39fe"
      },
      "execution_count": 33,
      "outputs": [
        {
          "output_type": "stream",
          "name": "stdout",
          "text": [
            "XGBRegressor(base_score=None, booster=None, callbacks=None,\n",
            "             colsample_bylevel=None, colsample_bynode=None,\n",
            "             colsample_bytree=None, device=None, early_stopping_rounds=None,\n",
            "             enable_categorical=False, eval_metric=None, feature_types=None,\n",
            "             gamma=None, grow_policy=None, importance_type=None,\n",
            "             interaction_constraints=None, learning_rate=None, max_bin=None,\n",
            "             max_cat_threshold=None, max_cat_to_onehot=None,\n",
            "             max_delta_step=None, max_depth=None, max_leaves=None,\n",
            "             min_child_weight=None, missing=nan, monotone_constraints=None,\n",
            "             multi_strategy=None, n_estimators=None, n_jobs=None,\n",
            "             num_parallel_tree=None, random_state=None, ...) values:\n",
            "Train MAE: 1487.5832161908882\n",
            "Train MSE: 3671618.4132514964\n",
            "Train R2: 0.9976153067110022\n",
            "Test MAE: 4660.627037130376\n",
            "Test MSE: 69785339.7971689\n",
            "Test R2: 0.9237636493438572\n"
          ]
        }
      ]
    },
    {
      "cell_type": "markdown",
      "source": [
        "## Support Vector Regression"
      ],
      "metadata": {
        "id": "wrhN2JaBSlHh"
      }
    },
    {
      "cell_type": "code",
      "source": [
        "from sklearn.svm import SVR\n",
        "svr=SVR()\n",
        "svr.fit(x_train_new,y_train)\n",
        "pred=svr.predict(x_test_new)"
      ],
      "metadata": {
        "id": "vqa8ze5kW6ip"
      },
      "execution_count": 34,
      "outputs": []
    },
    {
      "cell_type": "code",
      "source": [
        "scorer('Support Vector Regression', scores, y_test, pred)"
      ],
      "metadata": {
        "colab": {
          "base_uri": "https://localhost:8080/"
        },
        "id": "ORaGezwAW-zK",
        "outputId": "e3e8355a-fece-4116-b63b-9d7a0a598399"
      },
      "execution_count": 35,
      "outputs": [
        {
          "output_type": "execute_result",
          "data": {
            "text/plain": [
              "Mean Absolute Error            13653.628635801580\n",
              "Mean Squared Error        1019839494.191852211952\n",
              "Root Mean Squared Error        31934.925930583464\n",
              "R2 score                          -0.114114246892\n",
              "Name: Support Vector Regression, dtype: float64"
            ]
          },
          "metadata": {},
          "execution_count": 35
        }
      ]
    },
    {
      "cell_type": "code",
      "source": [
        "train_test_score_compare(svr, x_train_new, x_test_new, y_train, y_test)"
      ],
      "metadata": {
        "colab": {
          "base_uri": "https://localhost:8080/"
        },
        "id": "7GMZjohJlVBM",
        "outputId": "f9549903-79a6-4c40-a70b-0fb6505ce0d1"
      },
      "execution_count": 36,
      "outputs": [
        {
          "output_type": "stream",
          "name": "stdout",
          "text": [
            "SVR() values:\n",
            "Train MAE: 15126.221591272975\n",
            "Train MSE: 1677338011.253133\n",
            "Train R2: -0.08942059021705795\n",
            "Test MAE: 13653.62863580158\n",
            "Test MSE: 1019839494.1918522\n",
            "Test R2: -0.11411424689154415\n"
          ]
        }
      ]
    },
    {
      "cell_type": "markdown",
      "source": [
        "## K-nearest Neighbours Regression"
      ],
      "metadata": {
        "id": "QsWVDFtmSqLe"
      }
    },
    {
      "cell_type": "code",
      "source": [
        "from sklearn.neighbors import KNeighborsRegressor\n",
        "knn=KNeighborsRegressor()\n",
        "knn.fit(x_train_new,y_train)\n",
        "pred=knn.predict(x_test_new)"
      ],
      "metadata": {
        "id": "pijNyECJQNe4"
      },
      "execution_count": 37,
      "outputs": []
    },
    {
      "cell_type": "code",
      "source": [
        "scorer('K-Nearest Neighbour Regression', scores, y_test, pred)"
      ],
      "metadata": {
        "colab": {
          "base_uri": "https://localhost:8080/"
        },
        "id": "hVbnsZ9qSOSr",
        "outputId": "19957d5a-9891-44e8-836d-6e32d37c109c"
      },
      "execution_count": 38,
      "outputs": [
        {
          "output_type": "execute_result",
          "data": {
            "text/plain": [
              "Mean Absolute Error            6435.317741935484\n",
              "Mean Squared Error        164201263.763440847397\n",
              "Root Mean Squared Error       12814.104095231974\n",
              "R2 score                          0.820619844242\n",
              "Name: K-Nearest Neighbour Regression, dtype: float64"
            ]
          },
          "metadata": {},
          "execution_count": 38
        }
      ]
    },
    {
      "cell_type": "code",
      "source": [
        "train_test_score_compare(knn, x_train_new, x_test_new, y_train, y_test)"
      ],
      "metadata": {
        "colab": {
          "base_uri": "https://localhost:8080/"
        },
        "id": "5m_1HWWslZl7",
        "outputId": "22547c10-69e0-422e-fd39-76f04e51d4ac"
      },
      "execution_count": 39,
      "outputs": [
        {
          "output_type": "stream",
          "name": "stdout",
          "text": [
            "KNeighborsRegressor() values:\n",
            "Train MAE: 5427.3731257208765\n",
            "Train MSE: 136454364.41815454\n",
            "Train R2: 0.9113737402808519\n",
            "Test MAE: 6435.317741935484\n",
            "Test MSE: 164201263.76344085\n",
            "Test R2: 0.8206198442418516\n"
          ]
        }
      ]
    },
    {
      "cell_type": "markdown",
      "source": [
        "# Visualizing score to select the best performing model"
      ],
      "metadata": {
        "id": "bYWaxe9cuX7N"
      }
    },
    {
      "cell_type": "code",
      "source": [
        "scores"
      ],
      "metadata": {
        "colab": {
          "base_uri": "https://localhost:8080/",
          "height": 333
        },
        "id": "7Sdo6RnMmu0U",
        "outputId": "326118f1-34f9-48c7-d509-b3032dd524a0"
      },
      "execution_count": 40,
      "outputs": [
        {
          "output_type": "execute_result",
          "data": {
            "text/plain": [
              "                              Lasso Regression  Random Forest Regressor  \\\n",
              "Mean Absolute Error          9093.064984996816        4434.525715587130   \n",
              "Mean Squared Error      161629352.924977660179    53427576.224574737251   \n",
              "Root Mean Squared Error     12713.353331241040        7309.416955173288   \n",
              "R2 score                        0.823429504510           0.941633537250   \n",
              "\n",
              "                         Gradient Boosting Regressor     XGBoost Regressor  \\\n",
              "Mean Absolute Error                4096.126598626272     4660.627037130376   \n",
              "Mean Squared Error             46235380.812073223293 69785339.797168895602   \n",
              "Root Mean Squared Error            6799.660345346172     8353.762014635615   \n",
              "R2 score                              0.949490584777        0.923763649344   \n",
              "\n",
              "                         Support Vector Regression  \\\n",
              "Mean Absolute Error             13653.628635801580   \n",
              "Mean Squared Error         1019839494.191852211952   \n",
              "Root Mean Squared Error         31934.925930583464   \n",
              "R2 score                           -0.114114246892   \n",
              "\n",
              "                         K-Nearest Neighbour Regression  \n",
              "Mean Absolute Error                   6435.317741935484  \n",
              "Mean Squared Error               164201263.763440847397  \n",
              "Root Mean Squared Error              12814.104095231974  \n",
              "R2 score                                 0.820619844242  "
            ],
            "text/html": [
              "\n",
              "  <div id=\"df-b42727dd-e10b-45d1-b288-2812d1db1ef6\" class=\"colab-df-container\">\n",
              "    <div>\n",
              "<style scoped>\n",
              "    .dataframe tbody tr th:only-of-type {\n",
              "        vertical-align: middle;\n",
              "    }\n",
              "\n",
              "    .dataframe tbody tr th {\n",
              "        vertical-align: top;\n",
              "    }\n",
              "\n",
              "    .dataframe thead th {\n",
              "        text-align: right;\n",
              "    }\n",
              "</style>\n",
              "<table border=\"1\" class=\"dataframe\">\n",
              "  <thead>\n",
              "    <tr style=\"text-align: right;\">\n",
              "      <th></th>\n",
              "      <th>Lasso Regression</th>\n",
              "      <th>Random Forest Regressor</th>\n",
              "      <th>Gradient Boosting Regressor</th>\n",
              "      <th>XGBoost Regressor</th>\n",
              "      <th>Support Vector Regression</th>\n",
              "      <th>K-Nearest Neighbour Regression</th>\n",
              "    </tr>\n",
              "  </thead>\n",
              "  <tbody>\n",
              "    <tr>\n",
              "      <th>Mean Absolute Error</th>\n",
              "      <td>9093.064984996816</td>\n",
              "      <td>4434.525715587130</td>\n",
              "      <td>4096.126598626272</td>\n",
              "      <td>4660.627037130376</td>\n",
              "      <td>13653.628635801580</td>\n",
              "      <td>6435.317741935484</td>\n",
              "    </tr>\n",
              "    <tr>\n",
              "      <th>Mean Squared Error</th>\n",
              "      <td>161629352.924977660179</td>\n",
              "      <td>53427576.224574737251</td>\n",
              "      <td>46235380.812073223293</td>\n",
              "      <td>69785339.797168895602</td>\n",
              "      <td>1019839494.191852211952</td>\n",
              "      <td>164201263.763440847397</td>\n",
              "    </tr>\n",
              "    <tr>\n",
              "      <th>Root Mean Squared Error</th>\n",
              "      <td>12713.353331241040</td>\n",
              "      <td>7309.416955173288</td>\n",
              "      <td>6799.660345346172</td>\n",
              "      <td>8353.762014635615</td>\n",
              "      <td>31934.925930583464</td>\n",
              "      <td>12814.104095231974</td>\n",
              "    </tr>\n",
              "    <tr>\n",
              "      <th>R2 score</th>\n",
              "      <td>0.823429504510</td>\n",
              "      <td>0.941633537250</td>\n",
              "      <td>0.949490584777</td>\n",
              "      <td>0.923763649344</td>\n",
              "      <td>-0.114114246892</td>\n",
              "      <td>0.820619844242</td>\n",
              "    </tr>\n",
              "  </tbody>\n",
              "</table>\n",
              "</div>\n",
              "    <div class=\"colab-df-buttons\">\n",
              "\n",
              "  <div class=\"colab-df-container\">\n",
              "    <button class=\"colab-df-convert\" onclick=\"convertToInteractive('df-b42727dd-e10b-45d1-b288-2812d1db1ef6')\"\n",
              "            title=\"Convert this dataframe to an interactive table.\"\n",
              "            style=\"display:none;\">\n",
              "\n",
              "  <svg xmlns=\"http://www.w3.org/2000/svg\" height=\"24px\" viewBox=\"0 -960 960 960\">\n",
              "    <path d=\"M120-120v-720h720v720H120Zm60-500h600v-160H180v160Zm220 220h160v-160H400v160Zm0 220h160v-160H400v160ZM180-400h160v-160H180v160Zm440 0h160v-160H620v160ZM180-180h160v-160H180v160Zm440 0h160v-160H620v160Z\"/>\n",
              "  </svg>\n",
              "    </button>\n",
              "\n",
              "  <style>\n",
              "    .colab-df-container {\n",
              "      display:flex;\n",
              "      gap: 12px;\n",
              "    }\n",
              "\n",
              "    .colab-df-convert {\n",
              "      background-color: #E8F0FE;\n",
              "      border: none;\n",
              "      border-radius: 50%;\n",
              "      cursor: pointer;\n",
              "      display: none;\n",
              "      fill: #1967D2;\n",
              "      height: 32px;\n",
              "      padding: 0 0 0 0;\n",
              "      width: 32px;\n",
              "    }\n",
              "\n",
              "    .colab-df-convert:hover {\n",
              "      background-color: #E2EBFA;\n",
              "      box-shadow: 0px 1px 2px rgba(60, 64, 67, 0.3), 0px 1px 3px 1px rgba(60, 64, 67, 0.15);\n",
              "      fill: #174EA6;\n",
              "    }\n",
              "\n",
              "    .colab-df-buttons div {\n",
              "      margin-bottom: 4px;\n",
              "    }\n",
              "\n",
              "    [theme=dark] .colab-df-convert {\n",
              "      background-color: #3B4455;\n",
              "      fill: #D2E3FC;\n",
              "    }\n",
              "\n",
              "    [theme=dark] .colab-df-convert:hover {\n",
              "      background-color: #434B5C;\n",
              "      box-shadow: 0px 1px 3px 1px rgba(0, 0, 0, 0.15);\n",
              "      filter: drop-shadow(0px 1px 2px rgba(0, 0, 0, 0.3));\n",
              "      fill: #FFFFFF;\n",
              "    }\n",
              "  </style>\n",
              "\n",
              "    <script>\n",
              "      const buttonEl =\n",
              "        document.querySelector('#df-b42727dd-e10b-45d1-b288-2812d1db1ef6 button.colab-df-convert');\n",
              "      buttonEl.style.display =\n",
              "        google.colab.kernel.accessAllowed ? 'block' : 'none';\n",
              "\n",
              "      async function convertToInteractive(key) {\n",
              "        const element = document.querySelector('#df-b42727dd-e10b-45d1-b288-2812d1db1ef6');\n",
              "        const dataTable =\n",
              "          await google.colab.kernel.invokeFunction('convertToInteractive',\n",
              "                                                    [key], {});\n",
              "        if (!dataTable) return;\n",
              "\n",
              "        const docLinkHtml = 'Like what you see? Visit the ' +\n",
              "          '<a target=\"_blank\" href=https://colab.research.google.com/notebooks/data_table.ipynb>data table notebook</a>'\n",
              "          + ' to learn more about interactive tables.';\n",
              "        element.innerHTML = '';\n",
              "        dataTable['output_type'] = 'display_data';\n",
              "        await google.colab.output.renderOutput(dataTable, element);\n",
              "        const docLink = document.createElement('div');\n",
              "        docLink.innerHTML = docLinkHtml;\n",
              "        element.appendChild(docLink);\n",
              "      }\n",
              "    </script>\n",
              "  </div>\n",
              "\n",
              "\n",
              "<div id=\"df-608a9879-711f-420c-82e3-4d264fd25c47\">\n",
              "  <button class=\"colab-df-quickchart\" onclick=\"quickchart('df-608a9879-711f-420c-82e3-4d264fd25c47')\"\n",
              "            title=\"Suggest charts\"\n",
              "            style=\"display:none;\">\n",
              "\n",
              "<svg xmlns=\"http://www.w3.org/2000/svg\" height=\"24px\"viewBox=\"0 0 24 24\"\n",
              "     width=\"24px\">\n",
              "    <g>\n",
              "        <path d=\"M19 3H5c-1.1 0-2 .9-2 2v14c0 1.1.9 2 2 2h14c1.1 0 2-.9 2-2V5c0-1.1-.9-2-2-2zM9 17H7v-7h2v7zm4 0h-2V7h2v10zm4 0h-2v-4h2v4z\"/>\n",
              "    </g>\n",
              "</svg>\n",
              "  </button>\n",
              "\n",
              "<style>\n",
              "  .colab-df-quickchart {\n",
              "      --bg-color: #E8F0FE;\n",
              "      --fill-color: #1967D2;\n",
              "      --hover-bg-color: #E2EBFA;\n",
              "      --hover-fill-color: #174EA6;\n",
              "      --disabled-fill-color: #AAA;\n",
              "      --disabled-bg-color: #DDD;\n",
              "  }\n",
              "\n",
              "  [theme=dark] .colab-df-quickchart {\n",
              "      --bg-color: #3B4455;\n",
              "      --fill-color: #D2E3FC;\n",
              "      --hover-bg-color: #434B5C;\n",
              "      --hover-fill-color: #FFFFFF;\n",
              "      --disabled-bg-color: #3B4455;\n",
              "      --disabled-fill-color: #666;\n",
              "  }\n",
              "\n",
              "  .colab-df-quickchart {\n",
              "    background-color: var(--bg-color);\n",
              "    border: none;\n",
              "    border-radius: 50%;\n",
              "    cursor: pointer;\n",
              "    display: none;\n",
              "    fill: var(--fill-color);\n",
              "    height: 32px;\n",
              "    padding: 0;\n",
              "    width: 32px;\n",
              "  }\n",
              "\n",
              "  .colab-df-quickchart:hover {\n",
              "    background-color: var(--hover-bg-color);\n",
              "    box-shadow: 0 1px 2px rgba(60, 64, 67, 0.3), 0 1px 3px 1px rgba(60, 64, 67, 0.15);\n",
              "    fill: var(--button-hover-fill-color);\n",
              "  }\n",
              "\n",
              "  .colab-df-quickchart-complete:disabled,\n",
              "  .colab-df-quickchart-complete:disabled:hover {\n",
              "    background-color: var(--disabled-bg-color);\n",
              "    fill: var(--disabled-fill-color);\n",
              "    box-shadow: none;\n",
              "  }\n",
              "\n",
              "  .colab-df-spinner {\n",
              "    border: 2px solid var(--fill-color);\n",
              "    border-color: transparent;\n",
              "    border-bottom-color: var(--fill-color);\n",
              "    animation:\n",
              "      spin 1s steps(1) infinite;\n",
              "  }\n",
              "\n",
              "  @keyframes spin {\n",
              "    0% {\n",
              "      border-color: transparent;\n",
              "      border-bottom-color: var(--fill-color);\n",
              "      border-left-color: var(--fill-color);\n",
              "    }\n",
              "    20% {\n",
              "      border-color: transparent;\n",
              "      border-left-color: var(--fill-color);\n",
              "      border-top-color: var(--fill-color);\n",
              "    }\n",
              "    30% {\n",
              "      border-color: transparent;\n",
              "      border-left-color: var(--fill-color);\n",
              "      border-top-color: var(--fill-color);\n",
              "      border-right-color: var(--fill-color);\n",
              "    }\n",
              "    40% {\n",
              "      border-color: transparent;\n",
              "      border-right-color: var(--fill-color);\n",
              "      border-top-color: var(--fill-color);\n",
              "    }\n",
              "    60% {\n",
              "      border-color: transparent;\n",
              "      border-right-color: var(--fill-color);\n",
              "    }\n",
              "    80% {\n",
              "      border-color: transparent;\n",
              "      border-right-color: var(--fill-color);\n",
              "      border-bottom-color: var(--fill-color);\n",
              "    }\n",
              "    90% {\n",
              "      border-color: transparent;\n",
              "      border-bottom-color: var(--fill-color);\n",
              "    }\n",
              "  }\n",
              "</style>\n",
              "\n",
              "  <script>\n",
              "    async function quickchart(key) {\n",
              "      const quickchartButtonEl =\n",
              "        document.querySelector('#' + key + ' button');\n",
              "      quickchartButtonEl.disabled = true;  // To prevent multiple clicks.\n",
              "      quickchartButtonEl.classList.add('colab-df-spinner');\n",
              "      try {\n",
              "        const charts = await google.colab.kernel.invokeFunction(\n",
              "            'suggestCharts', [key], {});\n",
              "      } catch (error) {\n",
              "        console.error('Error during call to suggestCharts:', error);\n",
              "      }\n",
              "      quickchartButtonEl.classList.remove('colab-df-spinner');\n",
              "      quickchartButtonEl.classList.add('colab-df-quickchart-complete');\n",
              "    }\n",
              "    (() => {\n",
              "      let quickchartButtonEl =\n",
              "        document.querySelector('#df-608a9879-711f-420c-82e3-4d264fd25c47 button');\n",
              "      quickchartButtonEl.style.display =\n",
              "        google.colab.kernel.accessAllowed ? 'block' : 'none';\n",
              "    })();\n",
              "  </script>\n",
              "</div>\n",
              "\n",
              "  <div id=\"id_d1fa035e-4d83-4446-a95a-42025525599b\">\n",
              "    <style>\n",
              "      .colab-df-generate {\n",
              "        background-color: #E8F0FE;\n",
              "        border: none;\n",
              "        border-radius: 50%;\n",
              "        cursor: pointer;\n",
              "        display: none;\n",
              "        fill: #1967D2;\n",
              "        height: 32px;\n",
              "        padding: 0 0 0 0;\n",
              "        width: 32px;\n",
              "      }\n",
              "\n",
              "      .colab-df-generate:hover {\n",
              "        background-color: #E2EBFA;\n",
              "        box-shadow: 0px 1px 2px rgba(60, 64, 67, 0.3), 0px 1px 3px 1px rgba(60, 64, 67, 0.15);\n",
              "        fill: #174EA6;\n",
              "      }\n",
              "\n",
              "      [theme=dark] .colab-df-generate {\n",
              "        background-color: #3B4455;\n",
              "        fill: #D2E3FC;\n",
              "      }\n",
              "\n",
              "      [theme=dark] .colab-df-generate:hover {\n",
              "        background-color: #434B5C;\n",
              "        box-shadow: 0px 1px 3px 1px rgba(0, 0, 0, 0.15);\n",
              "        filter: drop-shadow(0px 1px 2px rgba(0, 0, 0, 0.3));\n",
              "        fill: #FFFFFF;\n",
              "      }\n",
              "    </style>\n",
              "    <button class=\"colab-df-generate\" onclick=\"generateWithVariable('scores')\"\n",
              "            title=\"Generate code using this dataframe.\"\n",
              "            style=\"display:none;\">\n",
              "\n",
              "  <svg xmlns=\"http://www.w3.org/2000/svg\" height=\"24px\"viewBox=\"0 0 24 24\"\n",
              "       width=\"24px\">\n",
              "    <path d=\"M7,19H8.4L18.45,9,17,7.55,7,17.6ZM5,21V16.75L18.45,3.32a2,2,0,0,1,2.83,0l1.4,1.43a1.91,1.91,0,0,1,.58,1.4,1.91,1.91,0,0,1-.58,1.4L9.25,21ZM18.45,9,17,7.55Zm-12,3A5.31,5.31,0,0,0,4.9,8.1,5.31,5.31,0,0,0,1,6.5,5.31,5.31,0,0,0,4.9,4.9,5.31,5.31,0,0,0,6.5,1,5.31,5.31,0,0,0,8.1,4.9,5.31,5.31,0,0,0,12,6.5,5.46,5.46,0,0,0,6.5,12Z\"/>\n",
              "  </svg>\n",
              "    </button>\n",
              "    <script>\n",
              "      (() => {\n",
              "      const buttonEl =\n",
              "        document.querySelector('#id_d1fa035e-4d83-4446-a95a-42025525599b button.colab-df-generate');\n",
              "      buttonEl.style.display =\n",
              "        google.colab.kernel.accessAllowed ? 'block' : 'none';\n",
              "\n",
              "      buttonEl.onclick = () => {\n",
              "        google.colab.notebook.generateWithVariable('scores');\n",
              "      }\n",
              "      })();\n",
              "    </script>\n",
              "  </div>\n",
              "\n",
              "    </div>\n",
              "  </div>\n"
            ],
            "application/vnd.google.colaboratory.intrinsic+json": {
              "type": "dataframe",
              "variable_name": "scores",
              "summary": "{\n  \"name\": \"scores\",\n  \"rows\": 4,\n  \"fields\": [\n    {\n      \"column\": \"Lasso Regression\",\n      \"properties\": {\n        \"dtype\": \"number\",\n        \"std\": 80811042.09914273,\n        \"min\": 0.8234295045101444,\n        \"max\": 161629352.92497766,\n        \"num_unique_values\": 4,\n        \"samples\": [\n          161629352.92497766,\n          0.8234295045101444,\n          9093.064984996816\n        ],\n        \"semantic_type\": \"\",\n        \"description\": \"\"\n      }\n    },\n    {\n      \"column\": \"Random Forest Regressor\",\n      \"properties\": {\n        \"dtype\": \"number\",\n        \"std\": 26711830.8007324,\n        \"min\": 0.9416335372500441,\n        \"max\": 53427576.22457474,\n        \"num_unique_values\": 4,\n        \"samples\": [\n          53427576.22457474,\n          0.9416335372500441,\n          4434.52571558713\n        ],\n        \"semantic_type\": \"\",\n        \"description\": \"\"\n      }\n    },\n    {\n      \"column\": \"Gradient Boosting Regressor\",\n      \"properties\": {\n        \"dtype\": \"number\",\n        \"std\": 23115874.452257983,\n        \"min\": 0.9494905847767684,\n        \"max\": 46235380.81207322,\n        \"num_unique_values\": 4,\n        \"samples\": [\n          46235380.81207322,\n          0.9494905847767684,\n          4096.1265986262715\n        ],\n        \"semantic_type\": \"\",\n        \"description\": \"\"\n      }\n    },\n    {\n      \"column\": \"XGBoost Regressor\",\n      \"properties\": {\n        \"dtype\": \"number\",\n        \"std\": 34890500.84716584,\n        \"min\": 0.9237636493438572,\n        \"max\": 69785339.7971689,\n        \"num_unique_values\": 4,\n        \"samples\": [\n          69785339.7971689,\n          0.9237636493438572,\n          4660.627037130376\n        ],\n        \"semantic_type\": \"\",\n        \"description\": \"\"\n      }\n    },\n    {\n      \"column\": \"Support Vector Regression\",\n      \"properties\": {\n        \"dtype\": \"number\",\n        \"std\": 509912149.19035435,\n        \"min\": -0.11411424689154415,\n        \"max\": 1019839494.1918522,\n        \"num_unique_values\": 4,\n        \"samples\": [\n          1019839494.1918522,\n          -0.11411424689154415,\n          13653.62863580158\n        ],\n        \"semantic_type\": \"\",\n        \"description\": \"\"\n      }\n    },\n    {\n      \"column\": \"K-Nearest Neighbour Regression\",\n      \"properties\": {\n        \"dtype\": \"number\",\n        \"std\": 82097423.67463048,\n        \"min\": 0.8206198442418516,\n        \"max\": 164201263.76344085,\n        \"num_unique_values\": 4,\n        \"samples\": [\n          164201263.76344085,\n          0.8206198442418516,\n          6435.317741935484\n        ],\n        \"semantic_type\": \"\",\n        \"description\": \"\"\n      }\n    }\n  ]\n}"
            }
          },
          "metadata": {},
          "execution_count": 40
        }
      ]
    },
    {
      "cell_type": "code",
      "source": [
        "scores_trans= scores.T\n"
      ],
      "metadata": {
        "id": "RGr17rxIp123"
      },
      "execution_count": 41,
      "outputs": []
    },
    {
      "cell_type": "code",
      "source": [
        "scores_trans['Mean Absolute Error'].plot(kind= 'bar')\n",
        "plt.grid(True)\n",
        "plt.title('Mean Absolute Error')"
      ],
      "metadata": {
        "colab": {
          "base_uri": "https://localhost:8080/",
          "height": 678
        },
        "id": "rU26Nl0op9CY",
        "outputId": "e60baccb-7dc3-4e1b-8d7e-52d8d6fb923b"
      },
      "execution_count": 49,
      "outputs": [
        {
          "output_type": "execute_result",
          "data": {
            "text/plain": [
              "Text(0.5, 1.0, 'Mean Absolute Error')"
            ]
          },
          "metadata": {},
          "execution_count": 49
        },
        {
          "output_type": "display_data",
          "data": {
            "text/plain": [
              "<Figure size 640x480 with 1 Axes>"
            ],
            "image/png": "[encoded data removed]"
          },
          "metadata": {}
        }
      ]
    },
    {
      "cell_type": "code",
      "source": [
        "scores_trans['Mean Squared Error'].plot(kind= 'bar')\n",
        "plt.grid(True)\n",
        "plt.title('Mean Squared Error')"
      ],
      "metadata": {
        "colab": {
          "base_uri": "https://localhost:8080/",
          "height": 678
        },
        "id": "c2JOijxXqChh",
        "outputId": "8e66ff51-0d34-4702-92a9-65bcf9ca4f6f"
      },
      "execution_count": 50,
      "outputs": [
        {
          "output_type": "execute_result",
          "data": {
            "text/plain": [
              "Text(0.5, 1.0, 'Mean Squared Error')"
            ]
          },
          "metadata": {},
          "execution_count": 50
        },
        {
          "output_type": "display_data",
          "data": {
            "text/plain": [
              "<Figure size 640x480 with 1 Axes>"
            ],
            "image/png": "[encoded data removed]"
          },
          "metadata": {}
        }
      ]
    },
    {
      "cell_type": "code",
      "source": [
        "scores_trans['Root Mean Squared Error'].plot(kind= 'bar')\n",
        "plt.grid(True)\n",
        "plt.title('Root Mean Squared Error')"
      ],
      "metadata": {
        "colab": {
          "base_uri": "https://localhost:8080/",
          "height": 678
        },
        "id": "9emSgGTHqVpA",
        "outputId": "476ebec2-4d57-4a2b-c77f-9386d2661a67"
      },
      "execution_count": 51,
      "outputs": [
        {
          "output_type": "execute_result",
          "data": {
            "text/plain": [
              "Text(0.5, 1.0, 'Root Mean Squared Error')"
            ]
          },
          "metadata": {},
          "execution_count": 51
        },
        {
          "output_type": "display_data",
          "data": {
            "text/plain": [
              "<Figure size 640x480 with 1 Axes>"
            ],
            "image/png": "[encoded data removed]"
          },
          "metadata": {}
        }
      ]
    },
    {
      "cell_type": "code",
      "source": [
        "scores_trans['R2 score'].plot(kind= 'bar')\n",
        "plt.grid(True)\n",
        "plt.title('R2 score')"
      ],
      "metadata": {
        "colab": {
          "base_uri": "https://localhost:8080/",
          "height": 678
        },
        "id": "t7b-4Iorqgew",
        "outputId": "a8c57e59-a53f-4c67-a19b-416b75dd6968"
      },
      "execution_count": 52,
      "outputs": [
        {
          "output_type": "execute_result",
          "data": {
            "text/plain": [
              "Text(0.5, 1.0, 'R2 score')"
            ]
          },
          "metadata": {},
          "execution_count": 52
        },
        {
          "output_type": "display_data",
          "data": {
            "text/plain": [
              "<Figure size 640x480 with 1 Axes>"
            ],
            "image/png": "[encoded data removed]"
          },
          "metadata": {}
        }
      ]
    },
    {
      "cell_type": "markdown",
      "source": [
        "\n",
        "\n",
        "---\n",
        "\n"
      ],
      "metadata": {
        "id": "Zi0y_gwHu0RE"
      }
    },
    {
      "cell_type": "markdown",
      "source": [
        "# Best performing model:\n",
        "> `Gradient Boosting Regressor` with an R2 score of `0.949490584777`.\n",
        "\n",
        "\n"
      ],
      "metadata": {
        "id": "pM4lEolcrVED"
      }
    }
  ]
}