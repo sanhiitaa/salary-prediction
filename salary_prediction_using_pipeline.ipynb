{
  "nbformat": 4,
  "nbformat_minor": 0,
  "metadata": {
    "colab": {
      "provenance": [],
      "authorship_tag": "ABX9TyPmfZhJysFWfrbvUiAmUaXM",
      "include_colab_link": true
    },
    "kernelspec": {
      "name": "python3",
      "display_name": "Python 3"
    },
    "language_info": {
      "name": "python"
    }
  },
  "cells": [
    {
      "cell_type": "markdown",
      "metadata": {
        "id": "view-in-github",
        "colab_type": "text"
      },
      "source": [
        "<a href=\"https://colab.research.google.com/github/sanhiitaa/salary-prediction/blob/main/salary_prediction_using_pipeline.ipynb\" target=\"_parent\"><img src=\"https://colab.research.google.com/assets/colab-badge.svg\" alt=\"Open In Colab\"/></a>"
      ]
    },
    {
      "cell_type": "code",
      "execution_count": 1,
      "metadata": {
        "id": "4g7OUtEV5oxM"
      },
      "outputs": [],
      "source": [
        "# import libraries\n",
        "import pickle\n",
        "import pandas as pd\n",
        ""
      ]
    },
    {
      "cell_type": "code",
      "source": [
        "# load the pipeline\n",
        "pipe=pickle.load(open('/content/final-pipeline-salary-prediction.pkl', 'rb'))"
      ],
      "metadata": {
        "id": "iuFWSoOI6q4n"
      },
      "execution_count": 2,
      "outputs": []
    },
    {
      "cell_type": "code",
      "source": [
        "# sample test input from x train itself\n",
        "test_input = pd.DataFrame({'SEX': ['F'],\n",
        " 'DESIGNATION': ['Analyst'],\n",
        " 'UNIT': ['Marketing'],\n",
        " 'PAST EXP': [0],\n",
        " 'years_experience': [3]})\n",
        "print(test_input)"
      ],
      "metadata": {
        "colab": {
          "base_uri": "https://localhost:8080/"
        },
        "id": "mh1Nqdab6zDo",
        "outputId": "33c6b26c-4489-4c67-c458-fbc36a2cfab6"
      },
      "execution_count": 3,
      "outputs": [
        {
          "output_type": "stream",
          "name": "stdout",
          "text": [
            "  SEX DESIGNATION       UNIT  PAST EXP  years_experience\n",
            "0   F     Analyst  Marketing         0                 3\n"
          ]
        }
      ]
    },
    {
      "cell_type": "code",
      "source": [
        "# making prediction using the pipeline\n",
        "pipe.predict(test_input)"
      ],
      "metadata": {
        "colab": {
          "base_uri": "https://localhost:8080/"
        },
        "id": "VOh0md3M6-Of",
        "outputId": "b80dc34b-efc6-4f01-eee0-277b9f3a6600"
      },
      "execution_count": 4,
      "outputs": [
        {
          "output_type": "execute_result",
          "data": {
            "text/plain": [
              "array([45233.39584925])"
            ]
          },
          "metadata": {},
          "execution_count": 4
        }
      ]
    },
    {
      "cell_type": "markdown",
      "source": [
        "- actual value: `49432`\n",
        "- predicted value: `45233.4`"
      ],
      "metadata": {
        "id": "dPFWXzpr7bEb"
      }
    },
    {
      "cell_type": "code",
      "source": [],
      "metadata": {
        "id": "CzuuKL9O7ACw"
      },
      "execution_count": null,
      "outputs": []
    }
  ]
}